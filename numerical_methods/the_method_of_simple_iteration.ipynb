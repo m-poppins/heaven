{
  "nbformat": 4,
  "nbformat_minor": 0,
  "metadata": {
    "kernelspec": {
      "display_name": "Python 3",
      "language": "python",
      "name": "python3"
    },
    "language_info": {
      "codemirror_mode": {
        "name": "ipython",
        "version": 3
      },
      "file_extension": ".py",
      "mimetype": "text/x-python",
      "name": "python",
      "nbconvert_exporter": "python",
      "pygments_lexer": "ipython3",
      "version": "3.7.3"
    },
    "colab": {
      "name": "the method of simple iteration.ipynb",
      "provenance": []
    }
  },
  "cells": [
    {
      "cell_type": "markdown",
      "metadata": {
        "id": "UyepttAq8XrJ",
        "colab_type": "text"
      },
      "source": [
        "# <font color='green'>Решение нелинейного уравнения методом простой итерации</font>"
      ]
    },
    {
      "cell_type": "markdown",
      "metadata": {
        "id": "pMV7OJRB8XrK",
        "colab_type": "text"
      },
      "source": [
        "### Построим примерный график решаемого уравнения"
      ]
    },
    {
      "cell_type": "code",
      "metadata": {
        "id": "_N6Lna_58XrL",
        "colab_type": "code",
        "colab": {},
        "outputId": "aa1852fd-459b-4162-a3c9-663016eb8fb0"
      },
      "source": [
        "from math import *\n",
        "import matplotlib.pyplot as plt\n",
        "%matplotlib inline \n",
        "from numpy import array,linspace,sqrt,sin\n",
        "from numpy.linalg import norm\n",
        "x = linspace(-2,2,100)\n",
        "y = 32.1*x**5-22*x**4-13*x**3+57*x**2-22-103*x\n",
        "z=0\n",
        "plt.plot(x,y)\n",
        "plt.grid() # сетка"
      ],
      "execution_count": null,
      "outputs": [
        {
          "output_type": "display_data",
          "data": {
            "image/png": "[encoded data removed]",
            "text/plain": [
              "<Figure size 432x288 with 1 Axes>"
            ]
          },
          "metadata": {
            "tags": [],
            "needs_background": "light"
          }
        }
      ]
    },
    {
      "cell_type": "code",
      "metadata": {
        "id": "kZsX_nT98XrP",
        "colab_type": "code",
        "colab": {},
        "outputId": "115915a8-3998-49ef-c2f9-5cf337484e60"
      },
      "source": [
        "f = lambda x :(32.1*x**5-22*x**4-13*x**3+57*x**2-22)/103\n",
        "x0 = 1\n",
        "e=1\n",
        "c=10e-5\n",
        "xp = []\n",
        "while e>c:\n",
        "    x=f(x0)\n",
        "    e=abs(x0-x)\n",
        "    x0=x\n",
        "    xp.append(x0)\n",
        "z=x\n",
        "x = linspace(-1,2,100)\n",
        "y = f(x)\n",
        "plt.plot(x,y,x0,f(x0),x,x,)\n",
        "plt.grid() # сетка\n"
      ],
      "execution_count": null,
      "outputs": [
        {
          "output_type": "display_data",
          "data": {
            "image/png": "[encoded data removed]",
            "text/plain": [
              "<Figure size 432x288 with 1 Axes>"
            ]
          },
          "metadata": {
            "tags": [],
            "needs_background": "light"
          }
        }
      ]
    },
    {
      "cell_type": "code",
      "metadata": {
        "id": "JFFbEmWX8XrS",
        "colab_type": "code",
        "colab": {},
        "outputId": "2547add7-44ca-479a-a599-cfb1fa005882"
      },
      "source": [
        "print ('Промежуточные значения корня :',xp,'\\n')\n",
        "print('Искомый корень =',z)"
      ],
      "execution_count": null,
      "outputs": [
        {
          "output_type": "stream",
          "text": [
            "Промежуточные значения корня : [0.3116504854368932, -0.1647619654788592, -0.198200135954324, -0.1912951726315628, -0.1928236050505055, -0.19248984983734047, -0.19256295206468582] \n",
            "\n",
            "Искомый корень = -0.19256295206468582\n"
          ],
          "name": "stdout"
        }
      ]
    },
    {
      "cell_type": "code",
      "metadata": {
        "id": "wlFDzfDR8XrV",
        "colab_type": "code",
        "colab": {}
      },
      "source": [
        ""
      ],
      "execution_count": null,
      "outputs": []
    }
  ]
}