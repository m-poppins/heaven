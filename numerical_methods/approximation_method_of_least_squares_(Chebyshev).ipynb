{
  "nbformat": 4,
  "nbformat_minor": 0,
  "metadata": {
    "kernelspec": {
      "display_name": "Python 3",
      "language": "python",
      "name": "python3"
    },
    "language_info": {
      "codemirror_mode": {
        "name": "ipython",
        "version": 3
      },
      "file_extension": ".py",
      "mimetype": "text/x-python",
      "name": "python",
      "nbconvert_exporter": "python",
      "pygments_lexer": "ipython3",
      "version": "3.7.3"
    },
    "colab": {
      "name": "approximation method of least squares (Chebyshev).ipynb",
      "provenance": []
    }
  },
  "cells": [
    {
      "cell_type": "markdown",
      "metadata": {
        "id": "rBhxZZcoGCTY",
        "colab_type": "text"
      },
      "source": [
        "Аппроксимировать таблично заданную функцию по методу наименьших квадратов, используя полиномы\n",
        "Чебышева по 5 порядок включительно"
      ]
    },
    {
      "cell_type": "code",
      "metadata": {
        "id": "DFZc4rUXF7Ep",
        "colab_type": "code",
        "colab": {}
      },
      "source": [
        "import numpy as np"
      ],
      "execution_count": null,
      "outputs": []
    },
    {
      "cell_type": "code",
      "metadata": {
        "id": "xDWG0NsXF7Ew",
        "colab_type": "code",
        "colab": {},
        "outputId": "2fb38202-7539-4e4d-b528-fe912c875f23"
      },
      "source": [
        "t=[1,2,3,4,5,6,7,8,9,10,11,12,13,14,15,16,17,18,19,20]\n",
        "z=[5,6,8,10,12,13,12,10,8,10,8,11,7,9,11,10,9,12,11,6]\n",
        "np.polynomial.chebyshev.chebfit(t,z,5)"
      ],
      "execution_count": null,
      "outputs": [
        {
          "output_type": "execute_result",
          "data": {
            "text/plain": [
              "array([ 2.69352448e+00,  1.59354460e+00,  2.01364554e-01, -2.82650359e-02,\n",
              "        1.02893121e-03, -1.17543299e-05])"
            ]
          },
          "metadata": {
            "tags": []
          },
          "execution_count": 2
        }
      ]
    },
    {
      "cell_type": "code",
      "metadata": {
        "id": "urSykjBcF7E0",
        "colab_type": "code",
        "colab": {},
        "outputId": "b8ff0af1-5416-4981-e75f-7d0e483014df"
      },
      "source": [
        "from numpy import vstack\n",
        "from numpy.linalg import lstsq\n",
        "import matplotlib.pyplot as plt\n",
        "\n",
        "\n",
        "def solve(x, y, n):\n",
        "    def Cheb(n, x0):\n",
        "        if n < 0:\n",
        "            raise ValueError\n",
        "        elif n == 0:\n",
        "            return 1\n",
        "        elif n == 1:\n",
        "            return x0  \n",
        "        return (2 * x0 * Cheb(n-1, x0) -  Cheb(n-2, x0))\n",
        "    def f(C, x0):\n",
        "        res = 0\n",
        "        i = 0\n",
        "        while i < len(C): \n",
        "            res += (float(C[i][0]) * Cheb(i, x0))\n",
        "            i += 1\n",
        "        return res\n",
        "    \n",
        "    F = []\n",
        "    for x0 in x:\n",
        "            F += [[Cheb(i, x0) for i in range(n+1)]]\n",
        "\n",
        "    Y = vstack(y)\n",
        "    C = lstsq(F, Y, rcond = None)[0]\n",
        "    print(C)\n",
        "    x1 = [i/5 + 1 for i in range(len(x) * 5 - 4)]\n",
        "    y1 = [f(C, x0) for x0 in x1]\n",
        "    _ = plt.plot(x, y, 'o', markersize=5, color=\"green\")\n",
        "    _ = plt.plot(x1, y1, 'r', color=\"blue\")\n",
        "    plt.show()\n",
        "    res=0\n",
        "    for dot in x1:\n",
        "        if dot in x:\n",
        "            res=res+(y[x.index(dot)]-y1[x1.index(dot)])**2\n",
        "    print('Сумма квадратов отклонений составила:', res)\n",
        "\n",
        "\n",
        "x = [i+1 for i in range(20)]\n",
        "y = [5, 6, 8, 10, 12, 13, 12, 10, 8, 10, 8, 11, 7, 9, 11, 10, 9, 12, 11, 6]\n",
        "\n",
        "solve(x, y, 5)"
      ],
      "execution_count": null,
      "outputs": [
        {
          "output_type": "stream",
          "text": [
            "[[ 2.69352448e+00]\n",
            " [ 1.59354460e+00]\n",
            " [ 2.01364554e-01]\n",
            " [-2.82650359e-02]\n",
            " [ 1.02893121e-03]\n",
            " [-1.17543299e-05]]\n"
          ],
          "name": "stdout"
        },
        {
          "output_type": "display_data",
          "data": {
            "image/png": "[encoded data removed]",
            "text/plain": [
              "<Figure size 432x288 with 1 Axes>"
            ]
          },
          "metadata": {
            "tags": [],
            "needs_background": "light"
          }
        },
        {
          "output_type": "stream",
          "text": [
            "Сумма квадратов отклонений составила: 28.52497607655495\n"
          ],
          "name": "stdout"
        }
      ]
    },
    {
      "cell_type": "code",
      "metadata": {
        "id": "cpbTaBwBF7E4",
        "colab_type": "code",
        "colab": {}
      },
      "source": [
        ""
      ],
      "execution_count": null,
      "outputs": []
    }
  ]
}