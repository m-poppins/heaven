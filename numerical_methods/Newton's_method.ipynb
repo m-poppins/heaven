{
  "nbformat": 4,
  "nbformat_minor": 0,
  "metadata": {
    "colab": {
      "name": "Newton's method.ipynb",
      "provenance": []
    },
    "kernelspec": {
      "name": "python3",
      "display_name": "Python 3"
    }
  },
  "cells": [
    {
      "cell_type": "markdown",
      "metadata": {
        "id": "hj6SD2pGE2vZ",
        "colab_type": "text"
      },
      "source": [
        "Решение системы нелинейных уравнений методом Ньютона"
      ]
    },
    {
      "cell_type": "code",
      "metadata": {
        "id": "qxFQdxBL98-8",
        "colab_type": "code",
        "colab": {}
      },
      "source": [
        "from sympy import *\n",
        "import numpy as np\n",
        "var('z y x E delta')\n",
        "init_printing()"
      ],
      "execution_count": 15,
      "outputs": []
    },
    {
      "cell_type": "code",
      "metadata": {
        "id": "qCeAEFyj-RY0",
        "colab_type": "code",
        "colab": {}
      },
      "source": [
        "def W(x,y,z): return Matrix(3,3,[-14.2*y**2*x+0.32*y*z**2,-14.2*x**2*y+0.32*x*z**2,0.64*x*y*z, 10.4*x, -4.54*y*z**2, -4.54*y**2*z, 3*x**2, 0, -10.8*z**2])"
      ],
      "execution_count": 16,
      "outputs": []
    },
    {
      "cell_type": "code",
      "metadata": {
        "id": "-u4yxWO-_3mP",
        "colab_type": "code",
        "colab": {
          "base_uri": "https://localhost:8080/",
          "height": 78
        },
        "outputId": "57ebd1db-9032-46bd-80b0-152c22634cf2"
      },
      "source": [
        "W(x,y,z)"
      ],
      "execution_count": 17,
      "outputs": [
        {
          "output_type": "execute_result",
          "data": {
            "text/latex": "$$\\left[\\begin{matrix}- 14.2 x y^{2} + 0.32 y z^{2} & - 14.2 x^{2} y + 0.32 x z^{2} & 0.64 x y z\\\\10.4 x & - 4.54 y z^{2} & - 4.54 y^{2} z\\\\3 x^{2} & 0 & - 10.8 z^{2}\\end{matrix}\\right]$$",
            "text/plain": [
              "⎡          2           2          2             2            ⎤\n",
              "⎢- 14.2⋅x⋅y  + 0.32⋅y⋅z   - 14.2⋅x ⋅y + 0.32⋅x⋅z   0.64⋅x⋅y⋅z⎥\n",
              "⎢                                                            ⎥\n",
              "⎢                                        2                2  ⎥\n",
              "⎢        10.4⋅x                 -4.54⋅y⋅z          -4.54⋅y ⋅z⎥\n",
              "⎢                                                            ⎥\n",
              "⎢            2                                             2 ⎥\n",
              "⎣         3⋅x                        0              -10.8⋅z  ⎦"
            ]
          },
          "metadata": {
            "tags": []
          },
          "execution_count": 17
        }
      ]
    },
    {
      "cell_type": "code",
      "metadata": {
        "id": "H885Gppu_6AH",
        "colab_type": "code",
        "colab": {}
      },
      "source": [
        "def F(x,y,z): return Matrix(3,1,[0.32*x*y*z**2-7.1*x**2*y**2+6.399,5.2*x**2-2.27*y**2*z**2+0.8955,-3.6*z**3+x**3+11.421])"
      ],
      "execution_count": 18,
      "outputs": []
    },
    {
      "cell_type": "code",
      "metadata": {
        "id": "x_Rc4VaUC6qn",
        "colab_type": "code",
        "colab": {}
      },
      "source": [
        "x0=Matrix(3,1,[0,0,0])"
      ],
      "execution_count": 19,
      "outputs": []
    },
    {
      "cell_type": "code",
      "metadata": {
        "id": "qNqJnCAGDDAM",
        "colab_type": "code",
        "colab": {}
      },
      "source": [
        "d=100\n",
        "E=0.00001"
      ],
      "execution_count": 20,
      "outputs": []
    },
    {
      "cell_type": "code",
      "metadata": {
        "id": "DV5XJb9oDHlj",
        "colab_type": "code",
        "colab": {
          "base_uri": "https://localhost:8080/",
          "height": 146
        },
        "outputId": "b249cb86-9e50-42c9-f530-92aa7acf69f7"
      },
      "source": [
        "i=0\n",
        "print(\"Задайте начальное приближение\")\n",
        "while i<3:\n",
        "  x0[i,0]=float(input())\n",
        "  i=i+1\n",
        "x0"
      ],
      "execution_count": 21,
      "outputs": [
        {
          "output_type": "stream",
          "text": [
            "Задайте начальное приближение\n",
            "1\n",
            "1\n",
            "1\n"
          ],
          "name": "stdout"
        },
        {
          "output_type": "execute_result",
          "data": {
            "text/latex": "$$\\left[\\begin{matrix}1.0\\\\1.0\\\\1.0\\end{matrix}\\right]$$",
            "text/plain": [
              "⎡1.0⎤\n",
              "⎢   ⎥\n",
              "⎢1.0⎥\n",
              "⎢   ⎥\n",
              "⎣1.0⎦"
            ]
          },
          "metadata": {
            "tags": []
          },
          "execution_count": 21
        }
      ]
    },
    {
      "cell_type": "code",
      "metadata": {
        "id": "JjsbE4W3Dk7z",
        "colab_type": "code",
        "colab": {
          "base_uri": "https://localhost:8080/",
          "height": 78
        },
        "outputId": "58410062-455c-4dff-81ba-5edd165677a8"
      },
      "source": [
        "while d>E:\n",
        "  x1=x0-(W(x0[0,0],x0[1,0],x0[2,0])).inv()*F(x0[0,0],x0[1,0],x0[2,0])\n",
        "  d=max((W(x0[0,0],x0[1,0],x0[2,0])).inv()*F(x0[0,0],x0[1,0],x0[2,0]))\n",
        "  d\n",
        "  x0=x1\n",
        "x1"
      ],
      "execution_count": 22,
      "outputs": [
        {
          "output_type": "execute_result",
          "data": {
            "text/latex": "$$\\left[\\begin{matrix}0.956261258580465\\\\1.04765710425031\\\\1.50596143387487\\end{matrix}\\right]$$",
            "text/plain": [
              "⎡0.956261258580465⎤\n",
              "⎢                 ⎥\n",
              "⎢1.04765710425031 ⎥\n",
              "⎢                 ⎥\n",
              "⎣1.50596143387487 ⎦"
            ]
          },
          "metadata": {
            "tags": []
          },
          "execution_count": 22
        }
      ]
    }
  ]
}