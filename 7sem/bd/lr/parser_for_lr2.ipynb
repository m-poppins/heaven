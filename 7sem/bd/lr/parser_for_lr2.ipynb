{
  "nbformat": 4,
  "nbformat_minor": 0,
  "metadata": {
    "colab": {
      "name": "parser.ipynb",
      "provenance": [],
      "collapsed_sections": [],
      "mount_file_id": "170UBHIi1utFFMnRwdRPMN-rNfOSZeevu",
      "authorship_tag": "ABX9TyNy5GzbyL3zLPIiKlWHmhXc"
    },
    "kernelspec": {
      "name": "python3",
      "display_name": "Python 3"
    }
  },
  "cells": [
    {
      "cell_type": "code",
      "metadata": {
        "id": "ZsZkutvwVsH2",
        "outputId": "f097ae1e-5381-4938-d262-9bade829b278",
        "colab": {
          "base_uri": "https://localhost:8080/",
          "height": 35
        }
      },
      "source": [
        "pip install beautifulsoup4 "
      ],
      "execution_count": null,
      "outputs": [
        {
          "output_type": "stream",
          "text": [
            "Requirement already satisfied: beautifulsoup4 in /usr/local/lib/python3.6/dist-packages (4.6.3)\n"
          ],
          "name": "stdout"
        }
      ]
    },
    {
      "cell_type": "code",
      "metadata": {
        "id": "Ppq9tHL7R2LE"
      },
      "source": [
        "from bs4 import BeautifulSoup\n",
        "import requests\n",
        "import sqlite3\n",
        "import datetime\n",
        "import dateutil.relativedelta\n",
        "import pandas as pd\n",
        "import re"
      ],
      "execution_count": null,
      "outputs": []
    },
    {
      "cell_type": "code",
      "metadata": {
        "id": "ULUcQr9ZSIvh"
      },
      "source": [
        "url = 'https://cbr.ru/currency_base/dynamics/'\n",
        "page = requests.get(url)"
      ],
      "execution_count": null,
      "outputs": []
    },
    {
      "cell_type": "code",
      "metadata": {
        "id": "JRhV1IbeSNrA",
        "outputId": "a03e7515-df2c-449e-c210-b36e909d2e71",
        "colab": {
          "base_uri": "https://localhost:8080/",
          "height": 35
        }
      },
      "source": [
        "print(page.status_code) #проверяем соединение"
      ],
      "execution_count": null,
      "outputs": [
        {
          "output_type": "stream",
          "text": [
            "200\n"
          ],
          "name": "stdout"
        }
      ]
    },
    {
      "cell_type": "code",
      "metadata": {
        "id": "e_7Sad8kSQi6"
      },
      "source": [
        "soup = BeautifulSoup(page.text, \"html.parser\")"
      ],
      "execution_count": null,
      "outputs": []
    },
    {
      "cell_type": "code",
      "metadata": {
        "id": "VDhQ90W-v-Du"
      },
      "source": [
        "today = datetime.datetime.now()\n",
        "delta1 = datetime.timedelta(hours=3, minutes=0)\n",
        "today=today + delta1\n",
        "datenow=today.strftime(\"%d.%m.%Y\")\n",
        "\n",
        "delta2 = dateutil.relativedelta.relativedelta(years=1)\n",
        "notoday=today-delta2\n",
        "datepast=notoday.strftime(\"%d.%m.%Y\")\n",
        "\n",
        "datenowkek=today.strftime(\"%m%%2F%d%%2F%Y\")\n",
        "datepastkek=notoday.strftime(\"%m%%2F%d%%2F%Y\")"
      ],
      "execution_count": null,
      "outputs": []
    },
    {
      "cell_type": "code",
      "metadata": {
        "id": "eOkgB2bTQNP9"
      },
      "source": [
        "class_input_label = soup.find(\"label\", class_=\"input_label\")\n",
        "labels=[]\n",
        "nums=[]\n",
        "kr=[]\n",
        "for i in range(len(class_input_label.findAll('option'))):\n",
        "  find_options=class_input_label.findAll('option')[i]\n",
        "  con_with_del=find_options.contents[0]\n",
        "  num=find_options.get_attribute_list('value')[0]\n",
        "  nums.append(num)\n",
        "  label=' '.join(con_with_del.split())\n",
        "  labels.append(label)\n",
        "\n",
        "\n",
        "  #url2=f'https://cbr.ru/currency_base/dynamics/?UniDbQuery.Posted=True&UniDbQuery.mode=1&UniDbQuery.date_req1=&UniDbQuery.date_req2=&UniDbQuery.VAL_NM_RQ={num}&UniDbQuery.From={datepast}&UniDbQuery.To={datenow}'\n",
        "  #url2='https://cbr.ru/currency_base/dynamics/?UniDbQuery.Posted=True&UniDbQuery.mode=1&UniDbQuery.date_req1=&UniDbQuery.date_req2=&UniDbQuery.VAL_NM_RQ={0}&UniDbQuery.From={1}&UniDbQuery.To={2}'.format(num,datepast,datenow)\n",
        "  url2='https://cbr.ru/currency_base/dynamics/?UniDbQuery.Posted=True&UniDbQuery.mode=1&UniDbQuery.date_req1=&UniDbQuery.date_req2=&UniDbQuery.VAL_NM_RQ={0}&UniDbQuery.From={1}&UniDbQuery.To={2}'.format(num,'01.01.1992',datenow)\n",
        "  url3=url2\n",
        "  page2 = requests.get(url3)\n",
        "  soup2 = BeautifulSoup(page2.text, \"html.parser\")\n",
        "  k=soup2.find(\"div\", class_=\"table-caption\")\n",
        "  if k==None:\n",
        "    kr.append('')\n",
        "  else:\n",
        "    textik=k.get_text()\n",
        "    m = re.findall(r\"\\(([A-Za-z]+).+\\)\",textik)\n",
        "    if len(m)==0:\n",
        "      kr.append('')\n",
        "    else:\n",
        "      kr.append(m.pop())\n",
        "  \n"
      ],
      "execution_count": null,
      "outputs": []
    },
    {
      "cell_type": "code",
      "metadata": {
        "id": "m4fpJ-u2iKd3"
      },
      "source": [
        "conn = sqlite3.connect(\"drive/My Drive/mydata.db\")\n",
        "cur=conn.cursor()"
      ],
      "execution_count": null,
      "outputs": []
    },
    {
      "cell_type": "code",
      "metadata": {
        "id": "CWJB-WBWdn6k"
      },
      "source": [
        "cur.execute(\"\"\"CREATE TABLE IF NOT EXISTS names(\n",
        "   id INT PRIMARY KEY,\n",
        "   bname TEXT,\n",
        "   sname TEXT);\n",
        "\"\"\")\n",
        "conn.commit()"
      ],
      "execution_count": null,
      "outputs": []
    },
    {
      "cell_type": "code",
      "metadata": {
        "id": "pEbWVLQ7SExb"
      },
      "source": [
        "id=range(1,len(kr))\n",
        "c = [(x,y,z) for x,y,z in zip(id,labels,kr)]"
      ],
      "execution_count": null,
      "outputs": []
    },
    {
      "cell_type": "code",
      "metadata": {
        "id": "V8fnR-9cQfr2"
      },
      "source": [
        "cur.executemany(\"INSERT INTO names VALUES(?, ?, ?);\", c)\n",
        "conn.commit()"
      ],
      "execution_count": null,
      "outputs": []
    },
    {
      "cell_type": "code",
      "metadata": {
        "id": "i-c2E5GsXJuS",
        "outputId": "41ba5784-9008-41c7-e6a9-199ec9651878",
        "colab": {
          "base_uri": "https://localhost:8080/",
          "height": 124
        }
      },
      "source": [
        "np2=[]\n",
        "while len(np2)<3:\n",
        "  print('Введите полное наименование валюты')\n",
        "  k=input()\n",
        "  if k not in labels:\n",
        "    print('Ошибка ввода. Такой валюты не существует.')\n",
        "  else: \n",
        "    np2.append(k)"
      ],
      "execution_count": null,
      "outputs": [
        {
          "output_type": "stream",
          "text": [
            "Введите полное наименование валюты\n",
            "Австралийский доллар\n",
            "Введите полное наименование валюты\n",
            "Белорусский рубль\n",
            "Введите полное наименование валюты\n",
            "Канадский доллар\n"
          ],
          "name": "stdout"
        }
      ]
    },
    {
      "cell_type": "code",
      "metadata": {
        "id": "QhaQZBEIYhPp"
      },
      "source": [
        "mass=[]\n",
        "for n in np2:\n",
        "  aaa=nums[labels.index(n)]\n",
        " # url2='https://cbr.ru/currency_base/dynamics/?UniDbQuery.Posted=True&UniDbQuery.mode=1&UniDbQuery.date_req1=&UniDbQuery.date_req2=&UniDbQuery.VAL_NM_RQ={0}&UniDbQuery.From={1}&UniDbQuery.To={2}'.format(a,datepast,datenow)\n",
        " # 'https://cbr.ru/Queries/UniDbQuery/DownloadExcel/98956?Posted=True&mode=1&VAL_NM_RQ={a}&From={datepast}&To={datenow}&FromDate=10%2F14%2F2020&ToDate=10%2F21%2F2020'.format(a,datepast,datenow)\n",
        "  url2=f'https://cbr.ru/Queries/UniDbQuery/DownloadExcel/98956?Posted=True&mode=1&VAL_NM_RQ={aaa}&From={datepast}&To={datenow}&FromDate={datepastkek}&ToDate={datenowkek}'#.format(aaa,datepast,datenow)\n",
        "  excel = pd.read_excel(url2)\n",
        "  mass.append(excel)"
      ],
      "execution_count": null,
      "outputs": []
    },
    {
      "cell_type": "code",
      "metadata": {
        "id": "Vy5yMwxmeZjm"
      },
      "source": [
        "cur.execute(\"\"\"CREATE TABLE IF NOT EXISTS rates1(\n",
        "   data TEXT PRIMARY KEY,\n",
        "   curs TEXT);\n",
        "   \"\"\")\n",
        "conn.commit()\n",
        "\n",
        "m0=mass[0]\n",
        "\n",
        "r1 = [(x,y) for x,y in zip(list(m0['data'].astype(str)),list(m0['curs'].astype(str)))]\n",
        "head1 = ('data', kr[labels.index(np2[0])])\n",
        "cur.execute(\"INSERT INTO rates1 VALUES(?, ?);\", head1)\n",
        "conn.commit()\n",
        "cur.executemany(\"INSERT INTO rates1 VALUES(?, ?);\", r1)\n",
        "conn.commit()"
      ],
      "execution_count": null,
      "outputs": []
    },
    {
      "cell_type": "code",
      "metadata": {
        "id": "oBB7YZZ5ee4N"
      },
      "source": [
        "cur.execute(\"\"\"CREATE TABLE IF NOT EXISTS rates2(\n",
        "   data TEXT PRIMARY KEY,\n",
        "   curs TEXT);\n",
        "   \"\"\")\n",
        "conn.commit()\n",
        "\n",
        "m1=mass[1]\n",
        "\n",
        "r2 = [(x,y) for x,y in zip(list(m1['data'].astype(str)),list(m1['curs'].astype(str)))]\n",
        "head2 = ('data', kr[labels.index(np2[1])])\n",
        "cur.execute(\"INSERT INTO rates2 VALUES(?, ?);\", head2)\n",
        "conn.commit()\n",
        "cur.executemany(\"INSERT INTO rates2 VALUES(?, ?);\", r2)\n",
        "conn.commit()"
      ],
      "execution_count": null,
      "outputs": []
    },
    {
      "cell_type": "code",
      "metadata": {
        "id": "y-VGiQmIeg_Z"
      },
      "source": [
        "cur.execute(\"\"\"CREATE TABLE IF NOT EXISTS rates3(\n",
        "   data TEXT PRIMARY KEY,\n",
        "   curs TEXT);\n",
        "   \"\"\")\n",
        "conn.commit()\n",
        "\n",
        "m2=mass[2]\n",
        "\n",
        "r3 = [(x,y) for x,y in zip(list(m2['data'].astype(str)),list(m2['curs'].astype(str)))]\n",
        "head3 = ('data', kr[labels.index(np2[2])])\n",
        "cur.execute(\"INSERT INTO rates3 VALUES(?, ?);\", head3)\n",
        "conn.commit()\n",
        "cur.executemany(\"INSERT INTO rates3 VALUES(?, ?);\", r3)\n",
        "conn.commit()"
      ],
      "execution_count": null,
      "outputs": []
    },
    {
      "cell_type": "code",
      "metadata": {
        "id": "vYNbW3O0hIYA"
      },
      "source": [
        "conn.close()"
      ],
      "execution_count": null,
      "outputs": []
    }
  ]
}