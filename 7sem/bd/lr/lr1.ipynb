{
  "nbformat": 4,
  "nbformat_minor": 0,
  "metadata": {
    "colab": {
      "name": "lr1.ipynb",
      "provenance": [],
      "collapsed_sections": [],
      "mount_file_id": "1l-7e85un6m9j88fi7WmcR_DFmVVmT6Vd",
      "authorship_tag": "ABX9TyMlyf4jI+RKLTGEUFjU+MZL"
    },
    "kernelspec": {
      "name": "python3",
      "display_name": "Python 3"
    }
  },
  "cells": [
    {
      "cell_type": "code",
      "metadata": {
        "id": "u1d9V05lWlEc",
        "outputId": "fafb55a2-8402-4b93-9839-07de84b11a51",
        "colab": {
          "base_uri": "https://localhost:8080/",
          "height": 35
        }
      },
      "source": [
        "%pylab inline\n",
        "import pandas as pd\n",
        "from scipy import stats\n",
        "import statsmodels.api as sm\n",
        "import matplotlib.pyplot as plt\n",
        "from sklearn import linear_model"
      ],
      "execution_count": null,
      "outputs": [
        {
          "output_type": "stream",
          "text": [
            "Populating the interactive namespace from numpy and matplotlib\n"
          ],
          "name": "stdout"
        }
      ]
    },
    {
      "cell_type": "markdown",
      "metadata": {
        "id": "C2NSBjR7VUrO"
      },
      "source": [
        "1. Загрузка данных (и очистка)"
      ]
    },
    {
      "cell_type": "code",
      "metadata": {
        "id": "8LckjLbyW0-J",
        "outputId": "9b15424a-a544-4c47-f84e-e26c30d5d803",
        "colab": {
          "base_uri": "https://localhost:8080/",
          "height": 72
        }
      },
      "source": [
        "gt = pd.read_csv('/content/drive/My Drive/ter.csv', encoding='UTF-8')"
      ],
      "execution_count": null,
      "outputs": [
        {
          "output_type": "stream",
          "text": [
            "/usr/local/lib/python3.6/dist-packages/IPython/core/interactiveshell.py:2718: DtypeWarning: Columns (4,31,33,61,62,76,79,90,92,94,96,121) have mixed types.Specify dtype option on import or set low_memory=False.\n",
            "  interactivity=interactivity, compiler=compiler, result=result)\n"
          ],
          "name": "stderr"
        }
      ]
    },
    {
      "cell_type": "code",
      "metadata": {
        "id": "wOpJXi10cJ2I"
      },
      "source": [
        "gt=gt[gt['iday']!=0] #del rows with day=0 and month=0\n",
        "gt=gt[gt['imonth']!=0]"
      ],
      "execution_count": null,
      "outputs": []
    },
    {
      "cell_type": "markdown",
      "metadata": {
        "id": "wjrsHF7ZXCPC"
      },
      "source": [
        "2. Преобразование датасета"
      ]
    },
    {
      "cell_type": "code",
      "metadata": {
        "id": "2FcrIORPV_ms"
      },
      "source": [
        "gt2 = gt[['iyear', 'imonth', 'iday', 'country_txt', 'region_txt', 'latitude', 'longitude']]"
      ],
      "execution_count": null,
      "outputs": []
    },
    {
      "cell_type": "code",
      "metadata": {
        "id": "TywJyr-w6NH4",
        "outputId": "391f874c-7b4f-46d4-93e0-fc4ee9083785",
        "colab": {
          "base_uri": "https://localhost:8080/",
          "height": 444
        }
      },
      "source": [
        "gt2['iday']=gt2['iday'].astype(str)\n",
        "gt2['imonth']=gt2['imonth'].astype(str)\n",
        "gt2['iyear']=gt2['iyear'].astype(str)\n",
        "gt2['accident_date'] = gt2[['iyear', 'imonth', 'iday']].apply('-'.join, axis=1).apply(pd.to_datetime)"
      ],
      "execution_count": null,
      "outputs": [
        {
          "output_type": "stream",
          "text": [
            "/usr/local/lib/python3.6/dist-packages/ipykernel_launcher.py:1: SettingWithCopyWarning: \n",
            "A value is trying to be set on a copy of a slice from a DataFrame.\n",
            "Try using .loc[row_indexer,col_indexer] = value instead\n",
            "\n",
            "See the caveats in the documentation: https://pandas.pydata.org/pandas-docs/stable/user_guide/indexing.html#returning-a-view-versus-a-copy\n",
            "  \"\"\"Entry point for launching an IPython kernel.\n",
            "/usr/local/lib/python3.6/dist-packages/ipykernel_launcher.py:2: SettingWithCopyWarning: \n",
            "A value is trying to be set on a copy of a slice from a DataFrame.\n",
            "Try using .loc[row_indexer,col_indexer] = value instead\n",
            "\n",
            "See the caveats in the documentation: https://pandas.pydata.org/pandas-docs/stable/user_guide/indexing.html#returning-a-view-versus-a-copy\n",
            "  \n",
            "/usr/local/lib/python3.6/dist-packages/ipykernel_launcher.py:3: SettingWithCopyWarning: \n",
            "A value is trying to be set on a copy of a slice from a DataFrame.\n",
            "Try using .loc[row_indexer,col_indexer] = value instead\n",
            "\n",
            "See the caveats in the documentation: https://pandas.pydata.org/pandas-docs/stable/user_guide/indexing.html#returning-a-view-versus-a-copy\n",
            "  This is separate from the ipykernel package so we can avoid doing imports until\n",
            "/usr/local/lib/python3.6/dist-packages/ipykernel_launcher.py:4: SettingWithCopyWarning: \n",
            "A value is trying to be set on a copy of a slice from a DataFrame.\n",
            "Try using .loc[row_indexer,col_indexer] = value instead\n",
            "\n",
            "See the caveats in the documentation: https://pandas.pydata.org/pandas-docs/stable/user_guide/indexing.html#returning-a-view-versus-a-copy\n",
            "  after removing the cwd from sys.path.\n"
          ],
          "name": "stderr"
        }
      ]
    },
    {
      "cell_type": "code",
      "metadata": {
        "id": "pwcje9e-A2aM",
        "outputId": "f24428da-fe04-4969-9e9e-21826503b793",
        "colab": {
          "base_uri": "https://localhost:8080/",
          "height": 399
        }
      },
      "source": [
        "gt2"
      ],
      "execution_count": null,
      "outputs": [
        {
          "output_type": "execute_result",
          "data": {
            "text/html": [
              "<div>\n",
              "<style scoped>\n",
              "    .dataframe tbody tr th:only-of-type {\n",
              "        vertical-align: middle;\n",
              "    }\n",
              "\n",
              "    .dataframe tbody tr th {\n",
              "        vertical-align: top;\n",
              "    }\n",
              "\n",
              "    .dataframe thead th {\n",
              "        text-align: right;\n",
              "    }\n",
              "</style>\n",
              "<table border=\"1\" class=\"dataframe\">\n",
              "  <thead>\n",
              "    <tr style=\"text-align: right;\">\n",
              "      <th></th>\n",
              "      <th>iyear</th>\n",
              "      <th>imonth</th>\n",
              "      <th>iday</th>\n",
              "      <th>country_txt</th>\n",
              "      <th>region_txt</th>\n",
              "      <th>latitude</th>\n",
              "      <th>longitude</th>\n",
              "      <th>accident_date</th>\n",
              "    </tr>\n",
              "  </thead>\n",
              "  <tbody>\n",
              "    <tr>\n",
              "      <th>0</th>\n",
              "      <td>1970</td>\n",
              "      <td>7</td>\n",
              "      <td>2</td>\n",
              "      <td>Dominican Republic</td>\n",
              "      <td>Central America &amp; Caribbean</td>\n",
              "      <td>18.456792</td>\n",
              "      <td>-69.951164</td>\n",
              "      <td>1970-07-02</td>\n",
              "    </tr>\n",
              "    <tr>\n",
              "      <th>5</th>\n",
              "      <td>1970</td>\n",
              "      <td>1</td>\n",
              "      <td>1</td>\n",
              "      <td>United States</td>\n",
              "      <td>North America</td>\n",
              "      <td>37.005105</td>\n",
              "      <td>-89.176269</td>\n",
              "      <td>1970-01-01</td>\n",
              "    </tr>\n",
              "    <tr>\n",
              "      <th>6</th>\n",
              "      <td>1970</td>\n",
              "      <td>1</td>\n",
              "      <td>2</td>\n",
              "      <td>Uruguay</td>\n",
              "      <td>South America</td>\n",
              "      <td>-34.891151</td>\n",
              "      <td>-56.187214</td>\n",
              "      <td>1970-01-02</td>\n",
              "    </tr>\n",
              "    <tr>\n",
              "      <th>7</th>\n",
              "      <td>1970</td>\n",
              "      <td>1</td>\n",
              "      <td>2</td>\n",
              "      <td>United States</td>\n",
              "      <td>North America</td>\n",
              "      <td>37.791927</td>\n",
              "      <td>-122.225906</td>\n",
              "      <td>1970-01-02</td>\n",
              "    </tr>\n",
              "    <tr>\n",
              "      <th>8</th>\n",
              "      <td>1970</td>\n",
              "      <td>1</td>\n",
              "      <td>2</td>\n",
              "      <td>United States</td>\n",
              "      <td>North America</td>\n",
              "      <td>43.076592</td>\n",
              "      <td>-89.412488</td>\n",
              "      <td>1970-01-02</td>\n",
              "    </tr>\n",
              "    <tr>\n",
              "      <th>...</th>\n",
              "      <td>...</td>\n",
              "      <td>...</td>\n",
              "      <td>...</td>\n",
              "      <td>...</td>\n",
              "      <td>...</td>\n",
              "      <td>...</td>\n",
              "      <td>...</td>\n",
              "      <td>...</td>\n",
              "    </tr>\n",
              "    <tr>\n",
              "      <th>65530</th>\n",
              "      <td>1997</td>\n",
              "      <td>6</td>\n",
              "      <td>5</td>\n",
              "      <td>Algeria</td>\n",
              "      <td>Middle East &amp; North Africa</td>\n",
              "      <td>34.666667</td>\n",
              "      <td>3.250000</td>\n",
              "      <td>1997-06-05</td>\n",
              "    </tr>\n",
              "    <tr>\n",
              "      <th>65531</th>\n",
              "      <td>1997</td>\n",
              "      <td>6</td>\n",
              "      <td>5</td>\n",
              "      <td>Hungary</td>\n",
              "      <td>Eastern Europe</td>\n",
              "      <td>47.498406</td>\n",
              "      <td>19.040758</td>\n",
              "      <td>1997-06-05</td>\n",
              "    </tr>\n",
              "    <tr>\n",
              "      <th>65532</th>\n",
              "      <td>1997</td>\n",
              "      <td>6</td>\n",
              "      <td>5</td>\n",
              "      <td>Hungary</td>\n",
              "      <td>Eastern Europe</td>\n",
              "      <td>47.498406</td>\n",
              "      <td>19.040758</td>\n",
              "      <td>1997-06-05</td>\n",
              "    </tr>\n",
              "    <tr>\n",
              "      <th>65533</th>\n",
              "      <td>1997</td>\n",
              "      <td>6</td>\n",
              "      <td>5</td>\n",
              "      <td>Hungary</td>\n",
              "      <td>Eastern Europe</td>\n",
              "      <td>47.498406</td>\n",
              "      <td>19.040758</td>\n",
              "      <td>1997-06-05</td>\n",
              "    </tr>\n",
              "    <tr>\n",
              "      <th>65534</th>\n",
              "      <td>1997</td>\n",
              "      <td>6</td>\n",
              "      <td>5</td>\n",
              "      <td>Hungary</td>\n",
              "      <td>Eastern Europe</td>\n",
              "      <td>47.498406</td>\n",
              "      <td>19.040758</td>\n",
              "      <td>1997-06-05</td>\n",
              "    </tr>\n",
              "  </tbody>\n",
              "</table>\n",
              "<p>64913 rows × 8 columns</p>\n",
              "</div>"
            ],
            "text/plain": [
              "      iyear imonth iday  ...   latitude   longitude  accident_date\n",
              "0      1970      7    2  ...  18.456792  -69.951164     1970-07-02\n",
              "5      1970      1    1  ...  37.005105  -89.176269     1970-01-01\n",
              "6      1970      1    2  ... -34.891151  -56.187214     1970-01-02\n",
              "7      1970      1    2  ...  37.791927 -122.225906     1970-01-02\n",
              "8      1970      1    2  ...  43.076592  -89.412488     1970-01-02\n",
              "...     ...    ...  ...  ...        ...         ...            ...\n",
              "65530  1997      6    5  ...  34.666667    3.250000     1997-06-05\n",
              "65531  1997      6    5  ...  47.498406   19.040758     1997-06-05\n",
              "65532  1997      6    5  ...  47.498406   19.040758     1997-06-05\n",
              "65533  1997      6    5  ...  47.498406   19.040758     1997-06-05\n",
              "65534  1997      6    5  ...  47.498406   19.040758     1997-06-05\n",
              "\n",
              "[64913 rows x 8 columns]"
            ]
          },
          "metadata": {
            "tags": []
          },
          "execution_count": 155
        }
      ]
    },
    {
      "cell_type": "markdown",
      "metadata": {
        "id": "4ZaJsdQPXypy"
      },
      "source": [
        "3. Сортировка"
      ]
    },
    {
      "cell_type": "code",
      "metadata": {
        "id": "2LY1cxUfXxMq"
      },
      "source": [
        "gt2 = gt2.sort_values(['country_txt', 'region_txt', 'iyear', 'imonth', 'iday', 'latitude', 'longitude'])"
      ],
      "execution_count": null,
      "outputs": []
    },
    {
      "cell_type": "markdown",
      "metadata": {
        "id": "l0ZmfNdNYeH5"
      },
      "source": [
        "4. Количественный анализ"
      ]
    },
    {
      "cell_type": "code",
      "metadata": {
        "id": "4UIrDD8xYcOz"
      },
      "source": [
        "gt3=gt2['country_txt'].value_counts().sort_values(ascending=False)"
      ],
      "execution_count": null,
      "outputs": []
    },
    {
      "cell_type": "code",
      "metadata": {
        "id": "vOvU6NT4SXWh",
        "outputId": "da55a8fd-3d40-4096-bf97-9fc752c62c60",
        "colab": {
          "base_uri": "https://localhost:8080/",
          "height": 230
        }
      },
      "source": [
        "gt3"
      ],
      "execution_count": null,
      "outputs": [
        {
          "output_type": "execute_result",
          "data": {
            "text/plain": [
              "Peru                5950\n",
              "Colombia            5517\n",
              "El Salvador         5275\n",
              "United Kingdom      3975\n",
              "India               2736\n",
              "                    ... \n",
              "Andorra                1\n",
              "Falkland Islands       1\n",
              "Belarus                1\n",
              "Maldives               1\n",
              "North Korea            1\n",
              "Name: country_txt, Length: 192, dtype: int64"
            ]
          },
          "metadata": {
            "tags": []
          },
          "execution_count": 158
        }
      ]
    },
    {
      "cell_type": "markdown",
      "metadata": {
        "id": "1IQ2f6ZDdrR8"
      },
      "source": [
        "5,6.Стат анализ, квартили"
      ]
    },
    {
      "cell_type": "code",
      "metadata": {
        "id": "9oFcbQSlZl8i"
      },
      "source": [
        "kv=gt3.quantile([.25, .5, .75,1])"
      ],
      "execution_count": null,
      "outputs": []
    },
    {
      "cell_type": "code",
      "metadata": {
        "id": "Ytm8shteHeak",
        "outputId": "fcb21c7a-e46c-448d-8d6d-4835485da294",
        "colab": {
          "base_uri": "https://localhost:8080/",
          "height": 106
        }
      },
      "source": [
        "kv"
      ],
      "execution_count": null,
      "outputs": [
        {
          "output_type": "execute_result",
          "data": {
            "text/plain": [
              "0.25       7.00\n",
              "0.50      32.00\n",
              "0.75     130.75\n",
              "1.00    5950.00\n",
              "Name: country_txt, dtype: float64"
            ]
          },
          "metadata": {
            "tags": []
          },
          "execution_count": 160
        }
      ]
    },
    {
      "cell_type": "code",
      "metadata": {
        "id": "m8Tb__JNfAUj"
      },
      "source": [
        "t = gt3[ (kv.loc[0.75] > gt3) & (kv.loc[0.25] <gt3)]"
      ],
      "execution_count": null,
      "outputs": []
    },
    {
      "cell_type": "code",
      "metadata": {
        "id": "Rlqe79TJIhBv"
      },
      "source": [
        "gt6 = gt2.query('country_txt in (@t.index)')"
      ],
      "execution_count": null,
      "outputs": []
    },
    {
      "cell_type": "code",
      "metadata": {
        "id": "Y0-F3ZowJCbk",
        "outputId": "3c9f5b9a-a5e3-4691-9946-349dcd2cece8",
        "colab": {
          "base_uri": "https://localhost:8080/",
          "height": 399
        }
      },
      "source": [
        "gt6"
      ],
      "execution_count": null,
      "outputs": [
        {
          "output_type": "execute_result",
          "data": {
            "text/html": [
              "<div>\n",
              "<style scoped>\n",
              "    .dataframe tbody tr th:only-of-type {\n",
              "        vertical-align: middle;\n",
              "    }\n",
              "\n",
              "    .dataframe tbody tr th {\n",
              "        vertical-align: top;\n",
              "    }\n",
              "\n",
              "    .dataframe thead th {\n",
              "        text-align: right;\n",
              "    }\n",
              "</style>\n",
              "<table border=\"1\" class=\"dataframe\">\n",
              "  <thead>\n",
              "    <tr style=\"text-align: right;\">\n",
              "      <th></th>\n",
              "      <th>iyear</th>\n",
              "      <th>imonth</th>\n",
              "      <th>iday</th>\n",
              "      <th>country_txt</th>\n",
              "      <th>region_txt</th>\n",
              "      <th>latitude</th>\n",
              "      <th>longitude</th>\n",
              "      <th>accident_date</th>\n",
              "    </tr>\n",
              "  </thead>\n",
              "  <tbody>\n",
              "    <tr>\n",
              "      <th>1863</th>\n",
              "      <td>1973</td>\n",
              "      <td>5</td>\n",
              "      <td>1</td>\n",
              "      <td>Afghanistan</td>\n",
              "      <td>South Asia</td>\n",
              "      <td>34.516895</td>\n",
              "      <td>69.147011</td>\n",
              "      <td>1973-05-01</td>\n",
              "    </tr>\n",
              "    <tr>\n",
              "      <th>7627</th>\n",
              "      <td>1979</td>\n",
              "      <td>2</td>\n",
              "      <td>14</td>\n",
              "      <td>Afghanistan</td>\n",
              "      <td>South Asia</td>\n",
              "      <td>34.516895</td>\n",
              "      <td>69.147011</td>\n",
              "      <td>1979-02-14</td>\n",
              "    </tr>\n",
              "    <tr>\n",
              "      <th>9156</th>\n",
              "      <td>1979</td>\n",
              "      <td>8</td>\n",
              "      <td>27</td>\n",
              "      <td>Afghanistan</td>\n",
              "      <td>South Asia</td>\n",
              "      <td>33.542622</td>\n",
              "      <td>68.415329</td>\n",
              "      <td>1979-08-27</td>\n",
              "    </tr>\n",
              "    <tr>\n",
              "      <th>9218</th>\n",
              "      <td>1979</td>\n",
              "      <td>9</td>\n",
              "      <td>9</td>\n",
              "      <td>Afghanistan</td>\n",
              "      <td>South Asia</td>\n",
              "      <td>34.346722</td>\n",
              "      <td>62.197315</td>\n",
              "      <td>1979-09-09</td>\n",
              "    </tr>\n",
              "    <tr>\n",
              "      <th>31132</th>\n",
              "      <td>1987</td>\n",
              "      <td>5</td>\n",
              "      <td>31</td>\n",
              "      <td>Afghanistan</td>\n",
              "      <td>South Asia</td>\n",
              "      <td>NaN</td>\n",
              "      <td>NaN</td>\n",
              "      <td>1987-05-31</td>\n",
              "    </tr>\n",
              "    <tr>\n",
              "      <th>...</th>\n",
              "      <td>...</td>\n",
              "      <td>...</td>\n",
              "      <td>...</td>\n",
              "      <td>...</td>\n",
              "      <td>...</td>\n",
              "      <td>...</td>\n",
              "      <td>...</td>\n",
              "      <td>...</td>\n",
              "    </tr>\n",
              "    <tr>\n",
              "      <th>47322</th>\n",
              "      <td>1991</td>\n",
              "      <td>7</td>\n",
              "      <td>20</td>\n",
              "      <td>Zimbabwe</td>\n",
              "      <td>Sub-Saharan Africa</td>\n",
              "      <td>-17.825166</td>\n",
              "      <td>31.033510</td>\n",
              "      <td>1991-07-20</td>\n",
              "    </tr>\n",
              "    <tr>\n",
              "      <th>51604</th>\n",
              "      <td>1992</td>\n",
              "      <td>5</td>\n",
              "      <td>25</td>\n",
              "      <td>Zimbabwe</td>\n",
              "      <td>Sub-Saharan Africa</td>\n",
              "      <td>-20.120995</td>\n",
              "      <td>28.627290</td>\n",
              "      <td>1992-05-25</td>\n",
              "    </tr>\n",
              "    <tr>\n",
              "      <th>56630</th>\n",
              "      <td>1994</td>\n",
              "      <td>6</td>\n",
              "      <td>19</td>\n",
              "      <td>Zimbabwe</td>\n",
              "      <td>Sub-Saharan Africa</td>\n",
              "      <td>-18.019782</td>\n",
              "      <td>31.067907</td>\n",
              "      <td>1994-06-19</td>\n",
              "    </tr>\n",
              "    <tr>\n",
              "      <th>60659</th>\n",
              "      <td>1995</td>\n",
              "      <td>10</td>\n",
              "      <td>14</td>\n",
              "      <td>Zimbabwe</td>\n",
              "      <td>Sub-Saharan Africa</td>\n",
              "      <td>-17.825166</td>\n",
              "      <td>31.033510</td>\n",
              "      <td>1995-10-14</td>\n",
              "    </tr>\n",
              "    <tr>\n",
              "      <th>60878</th>\n",
              "      <td>1995</td>\n",
              "      <td>11</td>\n",
              "      <td>3</td>\n",
              "      <td>Zimbabwe</td>\n",
              "      <td>Sub-Saharan Africa</td>\n",
              "      <td>-17.825166</td>\n",
              "      <td>31.033510</td>\n",
              "      <td>1995-11-03</td>\n",
              "    </tr>\n",
              "  </tbody>\n",
              "</table>\n",
              "<p>4255 rows × 8 columns</p>\n",
              "</div>"
            ],
            "text/plain": [
              "      iyear imonth iday  ...   latitude  longitude  accident_date\n",
              "1863   1973      5    1  ...  34.516895  69.147011     1973-05-01\n",
              "7627   1979      2   14  ...  34.516895  69.147011     1979-02-14\n",
              "9156   1979      8   27  ...  33.542622  68.415329     1979-08-27\n",
              "9218   1979      9    9  ...  34.346722  62.197315     1979-09-09\n",
              "31132  1987      5   31  ...        NaN        NaN     1987-05-31\n",
              "...     ...    ...  ...  ...        ...        ...            ...\n",
              "47322  1991      7   20  ... -17.825166  31.033510     1991-07-20\n",
              "51604  1992      5   25  ... -20.120995  28.627290     1992-05-25\n",
              "56630  1994      6   19  ... -18.019782  31.067907     1994-06-19\n",
              "60659  1995     10   14  ... -17.825166  31.033510     1995-10-14\n",
              "60878  1995     11    3  ... -17.825166  31.033510     1995-11-03\n",
              "\n",
              "[4255 rows x 8 columns]"
            ]
          },
          "metadata": {
            "tags": []
          },
          "execution_count": 163
        }
      ]
    },
    {
      "cell_type": "markdown",
      "metadata": {
        "id": "cBAXuOXAJUrw"
      },
      "source": [
        "7. Кол.анализ по месяцу"
      ]
    },
    {
      "cell_type": "code",
      "metadata": {
        "id": "LXJ9J-tVHuRL"
      },
      "source": [
        "gt7=gt6['imonth'].value_counts().sort_values(ascending=False)"
      ],
      "execution_count": null,
      "outputs": []
    },
    {
      "cell_type": "code",
      "metadata": {
        "id": "sCjH9rQiJjxS"
      },
      "source": [
        "gt71=gt7.rename_axis('month').reset_index()"
      ],
      "execution_count": null,
      "outputs": []
    },
    {
      "cell_type": "code",
      "metadata": {
        "id": "ob3dkJQCL3AT"
      },
      "source": [
        "gt71.rename(columns={'imonth': 'count','month':'imonth'}, inplace = True)"
      ],
      "execution_count": null,
      "outputs": []
    },
    {
      "cell_type": "code",
      "metadata": {
        "id": "wttu3D1mLY-W",
        "outputId": "df324e09-85f2-46c4-d37d-8f817f63b769",
        "colab": {
          "base_uri": "https://localhost:8080/",
          "height": 399
        }
      },
      "source": [
        "gt71"
      ],
      "execution_count": null,
      "outputs": [
        {
          "output_type": "execute_result",
          "data": {
            "text/html": [
              "<div>\n",
              "<style scoped>\n",
              "    .dataframe tbody tr th:only-of-type {\n",
              "        vertical-align: middle;\n",
              "    }\n",
              "\n",
              "    .dataframe tbody tr th {\n",
              "        vertical-align: top;\n",
              "    }\n",
              "\n",
              "    .dataframe thead th {\n",
              "        text-align: right;\n",
              "    }\n",
              "</style>\n",
              "<table border=\"1\" class=\"dataframe\">\n",
              "  <thead>\n",
              "    <tr style=\"text-align: right;\">\n",
              "      <th></th>\n",
              "      <th>imonth</th>\n",
              "      <th>count</th>\n",
              "    </tr>\n",
              "  </thead>\n",
              "  <tbody>\n",
              "    <tr>\n",
              "      <th>0</th>\n",
              "      <td>5</td>\n",
              "      <td>416</td>\n",
              "    </tr>\n",
              "    <tr>\n",
              "      <th>1</th>\n",
              "      <td>3</td>\n",
              "      <td>409</td>\n",
              "    </tr>\n",
              "    <tr>\n",
              "      <th>2</th>\n",
              "      <td>4</td>\n",
              "      <td>406</td>\n",
              "    </tr>\n",
              "    <tr>\n",
              "      <th>3</th>\n",
              "      <td>7</td>\n",
              "      <td>381</td>\n",
              "    </tr>\n",
              "    <tr>\n",
              "      <th>4</th>\n",
              "      <td>2</td>\n",
              "      <td>357</td>\n",
              "    </tr>\n",
              "    <tr>\n",
              "      <th>5</th>\n",
              "      <td>1</td>\n",
              "      <td>354</td>\n",
              "    </tr>\n",
              "    <tr>\n",
              "      <th>6</th>\n",
              "      <td>10</td>\n",
              "      <td>350</td>\n",
              "    </tr>\n",
              "    <tr>\n",
              "      <th>7</th>\n",
              "      <td>9</td>\n",
              "      <td>339</td>\n",
              "    </tr>\n",
              "    <tr>\n",
              "      <th>8</th>\n",
              "      <td>11</td>\n",
              "      <td>337</td>\n",
              "    </tr>\n",
              "    <tr>\n",
              "      <th>9</th>\n",
              "      <td>12</td>\n",
              "      <td>315</td>\n",
              "    </tr>\n",
              "    <tr>\n",
              "      <th>10</th>\n",
              "      <td>6</td>\n",
              "      <td>300</td>\n",
              "    </tr>\n",
              "    <tr>\n",
              "      <th>11</th>\n",
              "      <td>8</td>\n",
              "      <td>291</td>\n",
              "    </tr>\n",
              "  </tbody>\n",
              "</table>\n",
              "</div>"
            ],
            "text/plain": [
              "   imonth  count\n",
              "0       5    416\n",
              "1       3    409\n",
              "2       4    406\n",
              "3       7    381\n",
              "4       2    357\n",
              "5       1    354\n",
              "6      10    350\n",
              "7       9    339\n",
              "8      11    337\n",
              "9      12    315\n",
              "10      6    300\n",
              "11      8    291"
            ]
          },
          "metadata": {
            "tags": []
          },
          "execution_count": 167
        }
      ]
    },
    {
      "cell_type": "markdown",
      "metadata": {
        "id": "FoChtebUK_Ae"
      },
      "source": [
        "8.Нормализация"
      ]
    },
    {
      "cell_type": "code",
      "metadata": {
        "id": "DNpjRB6PNPh_"
      },
      "source": [
        "gt71['imonth']=gt71['imonth'].astype(int)\n",
        "gt71['count']=gt71['count'].astype(int)"
      ],
      "execution_count": null,
      "outputs": []
    },
    {
      "cell_type": "code",
      "metadata": {
        "id": "54cfZg-XK9AP"
      },
      "source": [
        "gt71['imonth']= (gt71['imonth']-gt71['imonth'].min())/(gt71['imonth'].max()-gt71['imonth'].min())"
      ],
      "execution_count": null,
      "outputs": []
    },
    {
      "cell_type": "code",
      "metadata": {
        "id": "qh24jxUvNH1_"
      },
      "source": [
        "gt71['count']= (gt71['count']-gt71['count'].min())/(gt71['count'].max()-gt71['count'].min())"
      ],
      "execution_count": null,
      "outputs": []
    },
    {
      "cell_type": "markdown",
      "metadata": {
        "id": "CW7iXf0WOZ-p"
      },
      "source": [
        "9.Гистограммы и кривые распределения"
      ]
    },
    {
      "cell_type": "code",
      "metadata": {
        "id": "eogJinS2ODko",
        "outputId": "26eed8bd-1bb4-48ff-d378-d0f9487f2b53",
        "colab": {
          "base_uri": "https://localhost:8080/",
          "height": 283
        }
      },
      "source": [
        "gt71['count'].plot(kind='hist')"
      ],
      "execution_count": null,
      "outputs": [
        {
          "output_type": "execute_result",
          "data": {
            "text/plain": [
              "<matplotlib.axes._subplots.AxesSubplot at 0x7f623e9081d0>"
            ]
          },
          "metadata": {
            "tags": []
          },
          "execution_count": 171
        },
        {
          "output_type": "display_data",
          "data": {
            "image/png": "[encoded data removed]",
            "text/plain": [
              "<Figure size 432x288 with 1 Axes>"
            ]
          },
          "metadata": {
            "tags": [],
            "needs_background": "light"
          }
        }
      ]
    },
    {
      "cell_type": "code",
      "metadata": {
        "id": "iG_KjzIKOkgM",
        "outputId": "deebbc8f-7648-4a9a-dcbb-b82627b10992",
        "colab": {
          "base_uri": "https://localhost:8080/",
          "height": 283
        }
      },
      "source": [
        "gt71['imonth'].plot(kind='hist')"
      ],
      "execution_count": null,
      "outputs": [
        {
          "output_type": "execute_result",
          "data": {
            "text/plain": [
              "<matplotlib.axes._subplots.AxesSubplot at 0x7f622ff740f0>"
            ]
          },
          "metadata": {
            "tags": []
          },
          "execution_count": 172
        },
        {
          "output_type": "display_data",
          "data": {
            "image/png": "[encoded data removed]",
            "text/plain": [
              "<Figure size 432x288 with 1 Axes>"
            ]
          },
          "metadata": {
            "tags": [],
            "needs_background": "light"
          }
        }
      ]
    },
    {
      "cell_type": "code",
      "metadata": {
        "id": "4VbuZYUjPBUi",
        "outputId": "012a0e35-78a3-4e2b-b09a-5ac993c1a4fd",
        "colab": {
          "base_uri": "https://localhost:8080/",
          "height": 283
        }
      },
      "source": [
        "gt71.plot(kind='kde') #А нормальное распределение с какими параметрами??"
      ],
      "execution_count": null,
      "outputs": [
        {
          "output_type": "execute_result",
          "data": {
            "text/plain": [
              "<matplotlib.axes._subplots.AxesSubplot at 0x7f622fb13a58>"
            ]
          },
          "metadata": {
            "tags": []
          },
          "execution_count": 173
        },
        {
          "output_type": "display_data",
          "data": {
            "image/png": "[encoded data removed]",
            "text/plain": [
              "<Figure size 432x288 with 1 Axes>"
            ]
          },
          "metadata": {
            "tags": [],
            "needs_background": "light"
          }
        }
      ]
    },
    {
      "cell_type": "markdown",
      "metadata": {
        "id": "ve6SDC-UQe0R"
      },
      "source": [
        "10. Лин.регр"
      ]
    },
    {
      "cell_type": "code",
      "metadata": {
        "id": "LGyRZrepPUGN",
        "outputId": "a43825ad-05f9-4f69-eec0-3c2867117f34",
        "colab": {
          "base_uri": "https://localhost:8080/",
          "height": 265
        }
      },
      "source": [
        "model=linear_model.LinearRegression()\n",
        "model.fit(gt71['imonth'].values.reshape(-1,1),gt71['count'])\n",
        "pred=model.predict(gt71['imonth'].values.reshape(-1,1))\n",
        "plt.plot(gt71['imonth'],pred,c='green')\n",
        "plt.scatter(gt71['imonth'],gt71['count'],c='red')\n",
        "plt.show()"
      ],
      "execution_count": null,
      "outputs": [
        {
          "output_type": "display_data",
          "data": {
            "image/png": "[encoded data removed]",
            "text/plain": [
              "<Figure size 432x288 with 1 Axes>"
            ]
          },
          "metadata": {
            "tags": [],
            "needs_background": "light"
          }
        }
      ]
    }
  ]
}