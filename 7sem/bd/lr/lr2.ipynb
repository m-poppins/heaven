{
  "nbformat": 4,
  "nbformat_minor": 0,
  "metadata": {
    "kernelspec": {
      "display_name": "Python 3",
      "language": "python",
      "name": "python3"
    },
    "language_info": {
      "codemirror_mode": {
        "name": "ipython",
        "version": 3
      },
      "file_extension": ".py",
      "mimetype": "text/x-python",
      "name": "python",
      "nbconvert_exporter": "python",
      "pygments_lexer": "ipython3",
      "version": "3.7.3"
    },
    "colab": {
      "name": "lab2.ipynb",
      "provenance": [],
      "collapsed_sections": []
    }
  },
  "cells": [
    {
      "cell_type": "code",
      "metadata": {
        "id": "dab8E5Yx3nCr"
      },
      "source": [
        "import pandas\n",
        "from sklearn import preprocessing\n",
        "import numpy as np\n",
        "import statsmodels.api as sm\n",
        "import pylab as py\n",
        "from matplotlib import pyplot as plt\n",
        "import statistics\n",
        "import matplotlib.mlab as mlab\n",
        "import matplotlib.pyplot as plt\n",
        "import statsmodels\n",
        "from scipy import stats\n",
        "from sklearn import linear_model"
      ],
      "execution_count": null,
      "outputs": []
    },
    {
      "cell_type": "code",
      "metadata": {
        "id": "e6eg9ukG3p_B",
        "outputId": "7be0d98a-7998-4116-aea5-d469f6d9e47c",
        "colab": {
          "base_uri": "https://localhost:8080/"
        }
      },
      "source": [
        "#from google.colab import drive\n",
        "#drive.mount('/content/drive')"
      ],
      "execution_count": null,
      "outputs": [
        {
          "output_type": "stream",
          "text": [
            "Mounted at /content/drive\n"
          ],
          "name": "stdout"
        }
      ]
    },
    {
      "cell_type": "markdown",
      "metadata": {
        "id": "Mm90N6uE3hmj"
      },
      "source": [
        "# Задание 2"
      ]
    },
    {
      "cell_type": "code",
      "metadata": {
        "id": "fRTjjAcs3hml",
        "outputId": "1f2fd562-db31-417b-f60e-505de2ea7f79",
        "colab": {
          "base_uri": "https://localhost:8080/"
        }
      },
      "source": [
        "data = pandas.read_excel('/content/drive/My Drive/lr/lr2/data.xlsx', sheet_name='Лист1')\n",
        "print(data.head())"
      ],
      "execution_count": null,
      "outputs": [
        {
          "output_type": "stream",
          "text": [
            "        Дата    BAR       RUB       NGN\n",
            "0 2020-10-01  40.93  0.012693  0.002558\n",
            "1 2020-09-01  40.95  0.013549  0.002604\n",
            "2 2020-08-01  45.28  0.013619  0.002610\n",
            "3 2020-07-01  43.30  0.014196  0.002621\n",
            "4 2020-06-01  41.15  0.014134  0.002568\n"
          ],
          "name": "stdout"
        }
      ]
    },
    {
      "cell_type": "markdown",
      "metadata": {
        "id": "4X-yZimv3hm1"
      },
      "source": [
        "# Задание 3\n"
      ]
    },
    {
      "cell_type": "code",
      "metadata": {
        "id": "MuEw2Jme3hm2",
        "outputId": "727cddc0-ea48-4dc3-c7ea-3f3884331cc3",
        "colab": {
          "base_uri": "https://localhost:8080/"
        }
      },
      "source": [
        "sc=preprocessing.StandardScaler()\n",
        "\n",
        "t3=data.copy()\n",
        "for i in data.columns[1:]:\n",
        "  t3[[i]]=sc.fit_transform(data[[i]])\n",
        "print(t3.head())#стандартизация"
      ],
      "execution_count": null,
      "outputs": [
        {
          "output_type": "stream",
          "text": [
            "        Дата       BAR       RUB       NGN\n",
            "0 2020-10-01 -1.164441 -2.221555 -0.759138\n",
            "1 2020-09-01 -1.162895 -1.569414 -0.689388\n",
            "2 2020-08-01 -0.828256 -1.516338 -0.681014\n",
            "3 2020-07-01 -0.981278 -1.076997 -0.665165\n",
            "4 2020-06-01 -1.147438 -1.124459 -0.744304\n"
          ],
          "name": "stdout"
        }
      ]
    },
    {
      "cell_type": "markdown",
      "metadata": {
        "id": "fFPZvJ0K3hnV"
      },
      "source": [
        "https://www.statsmodels.org/dev/generated/statsmodels.graphics.gofplots.qqplot.html -описание функции построения\n",
        "http://espressocode.top/qqplot-quantile-quantile-plot-in-python/ - описание кк , смысла"
      ]
    },
    {
      "cell_type": "markdown",
      "metadata": {
        "id": "nbNt_EFg3hnd"
      },
      "source": [
        "https://www.statsmodels.org/v0.10.0/generated/statsmodels.graphics.gofplots.ProbPlot.ppplot.html - ppplot\n",
        "other\n",
        "\n",
        "ProbPlot, array-like, or None, optional\n",
        "If provided, ECDF(x) will be plotted against p(x) where x are sorted samples from self. ECDF is an empirical cumulative distribution function estimated from other and p(x) = 0.5/n, 1.5/n, …, (n-0.5)/n where n is the number of samples in self. If an array-object is provided, it will be turned into a ProbPlot instance default parameters. If not provided (default), self.dist(x) is be plotted against p(x).\n",
        "https://www.statsmodels.org/0.6.1/generated/statsmodels.graphics.gofplots.ProbPlot.html - в целом ProbPlot"
      ]
    },
    {
      "cell_type": "code",
      "metadata": {
        "id": "jxAKFr193hnW",
        "outputId": "76570010-88b4-496b-9031-e11e491af28a",
        "colab": {
          "base_uri": "https://localhost:8080/",
          "height": 279
        }
      },
      "source": [
        "sm.qqplot(t3['BAR'], line ='45',fit=True)\n",
        "py.show()"
      ],
      "execution_count": null,
      "outputs": [
        {
          "output_type": "display_data",
          "data": {
            "image/png": "[encoded data removed]",
            "text/plain": [
              "<Figure size 432x288 with 1 Axes>"
            ]
          },
          "metadata": {
            "tags": [],
            "needs_background": "light"
          }
        }
      ]
    },
    {
      "cell_type": "code",
      "metadata": {
        "id": "mbY-1BMn3hnd",
        "outputId": "6d3cc72f-6aaf-4948-b9c9-621dd1c161c5",
        "colab": {
          "base_uri": "https://localhost:8080/",
          "height": 313
        }
      },
      "source": [
        "pp_x = sm.ProbPlot(t3['BAR'], fit=True)\n",
        "# Can take arguments specifying the parameters for dist or fit them automatically.\n",
        "pp_y =sm.ProbPlot(np.random.standard_normal(t3['BAR'].count()), fit=True)\n",
        "\n",
        "pp_x.ppplot( line ='45',other=pp_y)\n",
        "\n",
        "py.title(\" compare two sample sets\")\n",
        "\n"
      ],
      "execution_count": null,
      "outputs": [
        {
          "output_type": "execute_result",
          "data": {
            "text/plain": [
              "Text(0.5, 1.0, ' compare two sample sets')"
            ]
          },
          "metadata": {
            "tags": []
          },
          "execution_count": 8
        },
        {
          "output_type": "display_data",
          "data": {
            "image/png": "[encoded data removed]",
            "text/plain": [
              "<Figure size 432x288 with 1 Axes>"
            ]
          },
          "metadata": {
            "tags": [],
            "needs_background": "light"
          }
        }
      ]
    },
    {
      "cell_type": "code",
      "metadata": {
        "id": "eCGqwjF63hnk",
        "outputId": "6b08c40f-de98-43e0-e1f3-e6288752604f",
        "colab": {
          "base_uri": "https://localhost:8080/",
          "height": 557
        }
      },
      "source": [
        "pp_x = sm.ProbPlot(t3['NGN'], fit=True)\n",
        "# Can take arguments specifying the parameters for dist or fit them automatically.\n",
        "pp_y =sm.ProbPlot(np.random.standard_normal(t3['NGN'].count()), fit=True)\n",
        "\n",
        "pp_x.ppplot( line ='45',other=pp_y)\n",
        "\n",
        "py.title(\" compare two sample sets\")\n",
        "sm.qqplot(t3['NGN'], line ='45',fit=True)\n",
        "py.show()\n"
      ],
      "execution_count": null,
      "outputs": [
        {
          "output_type": "display_data",
          "data": {
            "image/png": "[encoded data removed]",
            "text/plain": [
              "<Figure size 432x288 with 1 Axes>"
            ]
          },
          "metadata": {
            "tags": [],
            "needs_background": "light"
          }
        },
        {
          "output_type": "display_data",
          "data": {
            "image/png": "[encoded data removed]",
            "text/plain": [
              "<Figure size 432x288 with 1 Axes>"
            ]
          },
          "metadata": {
            "tags": [],
            "needs_background": "light"
          }
        }
      ]
    },
    {
      "cell_type": "code",
      "metadata": {
        "id": "DrAyUNHJ3hnn",
        "outputId": "e4e316a6-4037-4ab8-f491-8b9db915dc5e",
        "colab": {
          "base_uri": "https://localhost:8080/",
          "height": 557
        }
      },
      "source": [
        "pp_x = sm.ProbPlot(t3['RUB'], fit=True)\n",
        "# Can take arguments specifying the parameters for dist or fit them automatically.\n",
        "pp_y =sm.ProbPlot(np.random.standard_normal(t3['RUB'].count()), fit=True)\n",
        "\n",
        "pp_x.ppplot( line ='45')\n",
        "\n",
        "py.title(\" compare two sample sets\")\n",
        "sm.qqplot(t3['RUB'], line ='45',fit=True)\n",
        "py.show()\n",
        "\n"
      ],
      "execution_count": null,
      "outputs": [
        {
          "output_type": "display_data",
          "data": {
            "image/png": "[encoded data removed]",
            "text/plain": [
              "<Figure size 432x288 with 1 Axes>"
            ]
          },
          "metadata": {
            "tags": [],
            "needs_background": "light"
          }
        },
        {
          "output_type": "display_data",
          "data": {
            "image/png": "[encoded data removed]",
            "text/plain": [
              "<Figure size 432x288 with 1 Axes>"
            ]
          },
          "metadata": {
            "tags": [],
            "needs_background": "light"
          }
        }
      ]
    },
    {
      "cell_type": "markdown",
      "metadata": {
        "id": "hRJXjbV83hnq"
      },
      "source": [
        "# Задание 4"
      ]
    },
    {
      "cell_type": "code",
      "metadata": {
        "id": "G6amPPUJ3hnu",
        "outputId": "01d02e7d-1480-4011-ebfb-c6268a9afab9",
        "colab": {
          "base_uri": "https://localhost:8080/",
          "height": 282
        }
      },
      "source": [
        "t3.describe() # медиана - квантиль 50%"
      ],
      "execution_count": null,
      "outputs": [
        {
          "output_type": "execute_result",
          "data": {
            "text/html": [
              "<div>\n",
              "<style scoped>\n",
              "    .dataframe tbody tr th:only-of-type {\n",
              "        vertical-align: middle;\n",
              "    }\n",
              "\n",
              "    .dataframe tbody tr th {\n",
              "        vertical-align: top;\n",
              "    }\n",
              "\n",
              "    .dataframe thead th {\n",
              "        text-align: right;\n",
              "    }\n",
              "</style>\n",
              "<table border=\"1\" class=\"dataframe\">\n",
              "  <thead>\n",
              "    <tr style=\"text-align: right;\">\n",
              "      <th></th>\n",
              "      <th>BAR</th>\n",
              "      <th>RUB</th>\n",
              "      <th>NGN</th>\n",
              "    </tr>\n",
              "  </thead>\n",
              "  <tbody>\n",
              "    <tr>\n",
              "      <th>count</th>\n",
              "      <td>5.800000e+01</td>\n",
              "      <td>5.800000e+01</td>\n",
              "      <td>5.800000e+01</td>\n",
              "    </tr>\n",
              "    <tr>\n",
              "      <th>mean</th>\n",
              "      <td>-7.656711e-17</td>\n",
              "      <td>-3.407236e-16</td>\n",
              "      <td>-3.828355e-17</td>\n",
              "    </tr>\n",
              "    <tr>\n",
              "      <th>std</th>\n",
              "      <td>1.008734e+00</td>\n",
              "      <td>1.008734e+00</td>\n",
              "      <td>1.008734e+00</td>\n",
              "    </tr>\n",
              "    <tr>\n",
              "      <th>min</th>\n",
              "      <td>-2.374706e+00</td>\n",
              "      <td>-2.221555e+00</td>\n",
              "      <td>-8.013136e-01</td>\n",
              "    </tr>\n",
              "    <tr>\n",
              "      <th>25%</th>\n",
              "      <td>-6.153392e-01</td>\n",
              "      <td>-4.475187e-01</td>\n",
              "      <td>-4.506053e-01</td>\n",
              "    </tr>\n",
              "    <tr>\n",
              "      <th>50%</th>\n",
              "      <td>-6.729023e-03</td>\n",
              "      <td>-7.797602e-02</td>\n",
              "      <td>-4.249311e-01</td>\n",
              "    </tr>\n",
              "    <tr>\n",
              "      <th>75%</th>\n",
              "      <td>7.344229e-01</td>\n",
              "      <td>8.628614e-01</td>\n",
              "      <td>1.572689e-01</td>\n",
              "    </tr>\n",
              "    <tr>\n",
              "      <th>max</th>\n",
              "      <td>2.066023e+00</td>\n",
              "      <td>1.665595e+00</td>\n",
              "      <td>2.958824e+00</td>\n",
              "    </tr>\n",
              "  </tbody>\n",
              "</table>\n",
              "</div>"
            ],
            "text/plain": [
              "                BAR           RUB           NGN\n",
              "count  5.800000e+01  5.800000e+01  5.800000e+01\n",
              "mean  -7.656711e-17 -3.407236e-16 -3.828355e-17\n",
              "std    1.008734e+00  1.008734e+00  1.008734e+00\n",
              "min   -2.374706e+00 -2.221555e+00 -8.013136e-01\n",
              "25%   -6.153392e-01 -4.475187e-01 -4.506053e-01\n",
              "50%   -6.729023e-03 -7.797602e-02 -4.249311e-01\n",
              "75%    7.344229e-01  8.628614e-01  1.572689e-01\n",
              "max    2.066023e+00  1.665595e+00  2.958824e+00"
            ]
          },
          "metadata": {
            "tags": []
          },
          "execution_count": 11
        }
      ]
    },
    {
      "cell_type": "code",
      "metadata": {
        "id": "lFqk3hn03hn9",
        "outputId": "e5216d27-8db4-425d-afb5-113b9659d27e",
        "colab": {
          "base_uri": "https://localhost:8080/"
        }
      },
      "source": [
        "statistics.mode(t3['BAR'])#мода барель"
      ],
      "execution_count": null,
      "outputs": [
        {
          "output_type": "execute_result",
          "data": {
            "text/plain": [
              "0.25139897028570923"
            ]
          },
          "metadata": {
            "tags": []
          },
          "execution_count": 12
        }
      ]
    },
    {
      "cell_type": "code",
      "metadata": {
        "id": "Rib-GJXB3hoD",
        "outputId": "599ec944-4fa3-4b10-c48f-90d79f3c9052",
        "colab": {
          "base_uri": "https://localhost:8080/",
          "height": 266
        }
      },
      "source": [
        "fig, ax = plt.subplots()\n",
        "\n",
        "ax.vlines(data['BAR'].mean(),0,data['BAR'].size,color='r',label='среднее')\n",
        "ax.vlines(data['BAR'].median(),0,data['BAR'].size,color='g',label='медиана')\n",
        "ax.vlines(data['BAR'].mode()[0],0,data['BAR'].size,color='b',label='мода')\n",
        "\n",
        "data['BAR'].hist(bins=7) #по ф-ле Стерджесса\n",
        "ax.legend()\n",
        "plt.show()"
      ],
      "execution_count": null,
      "outputs": [
        {
          "output_type": "display_data",
          "data": {
            "image/png": "[encoded data removed]",
            "text/plain": [
              "<Figure size 432x288 with 1 Axes>"
            ]
          },
          "metadata": {
            "tags": [],
            "needs_background": "light"
          }
        }
      ]
    },
    {
      "cell_type": "code",
      "metadata": {
        "id": "YR5vzLuk6CbR",
        "outputId": "e14347a8-2e08-4cce-fcf0-a429d39c8a8b",
        "colab": {
          "base_uri": "https://localhost:8080/",
          "height": 266
        }
      },
      "source": [
        "fig, ax = plt.subplots()\n",
        "\n",
        "ax.vlines(data['RUB'].mean(),0,data['RUB'].size,color='r',label='среднее')\n",
        "ax.vlines(data['RUB'].median(),0,data['RUB'].size,color='g',label='медиана')\n",
        "ax.vlines(data['RUB'].mode()[0],0,data['RUB'].size,color='b',label='мода')\n",
        "\n",
        "data['RUB'].hist(bins=7) #по ф-ле Стерджесса\n",
        "ax.legend()\n",
        "plt.show()"
      ],
      "execution_count": null,
      "outputs": [
        {
          "output_type": "display_data",
          "data": {
            "image/png": "[encoded data removed]",
            "text/plain": [
              "<Figure size 432x288 with 1 Axes>"
            ]
          },
          "metadata": {
            "tags": [],
            "needs_background": "light"
          }
        }
      ]
    },
    {
      "cell_type": "code",
      "metadata": {
        "id": "Y6e601MF6Sn0",
        "outputId": "bd20d4de-e4a3-427a-b505-3c33f4f25c50",
        "colab": {
          "base_uri": "https://localhost:8080/",
          "height": 266
        }
      },
      "source": [
        "fig, ax = plt.subplots()\n",
        "\n",
        "ax.vlines(data['NGN'].mean(),0,data['NGN'].size,color='r',label='среднее')\n",
        "ax.vlines(data['NGN'].median(),0,data['NGN'].size,color='g',label='медиана')\n",
        "ax.vlines(data['NGN'].mode()[0],0,data['NGN'].size,color='b',label='мода')\n",
        "\n",
        "data['NGN'].hist(bins=7) #по ф-ле Стерджесса\n",
        "ax.legend()\n",
        "plt.show()"
      ],
      "execution_count": null,
      "outputs": [
        {
          "output_type": "display_data",
          "data": {
            "image/png": "[encoded data removed]",
            "text/plain": [
              "<Figure size 432x288 with 1 Axes>"
            ]
          },
          "metadata": {
            "tags": [],
            "needs_background": "light"
          }
        }
      ]
    },
    {
      "cell_type": "markdown",
      "metadata": {
        "id": "bNLpFkTZ3hoh"
      },
      "source": [
        "# Задание 5"
      ]
    },
    {
      "cell_type": "markdown",
      "metadata": {
        "id": "tNOfFii93hoh"
      },
      "source": [
        "Статистическая гипотеза о генеральном распределении называется простой, если при условии истинности гипотезы закон распределения генеральной совокупности однозначно определен. В противном лучае гипотеза называется сложной. Т.е. т.к. мы проверяем только на нормальность, то у нас сложная.\n",
        "\n",
        "Критерий АНдерсона- ДАрлинга в случае првеорка сложных гипотез является свободным от распределения, то есть не зависит от вида закона, с которым проверяется согласие. То есть неспецифичен для нормального распредления. не берем его.\n",
        "\n",
        "критерий Шапиро-Уилка (в стандарте ГОСТ РИСО 5479-2002 применяется при объемах выборки от 8 до 50). Т.о. используем критерий Колмогорова. Кроме того kstest берет массив квантилей и возвращает соответствующее значение функции кумулятивной плотности, с которой мы сталкивались частично ранее."
      ]
    },
    {
      "cell_type": "markdown",
      "metadata": {
        "id": "SSLRWGqr3hoi"
      },
      "source": [
        "ШУ, т.к. меньше 2к измерений"
      ]
    },
    {
      "cell_type": "code",
      "metadata": {
        "id": "AKSPSIeo3hoi",
        "outputId": "bf8d73bc-3fde-4e52-b1e3-93aed4757374",
        "colab": {
          "base_uri": "https://localhost:8080/"
        }
      },
      "source": [
        "print(stats.kstest(t3['BAR'], \"norm\"))\n",
        "print(stats.kstest(t3['RUB'], \"norm\") )\n",
        "print(stats.kstest(t3['NGN'], \"norm\") )"
      ],
      "execution_count": null,
      "outputs": [
        {
          "output_type": "stream",
          "text": [
            "KstestResult(statistic=0.047523030197969884, pvalue=0.9994374686686768)\n",
            "KstestResult(statistic=0.09086584181937585, pvalue=0.7237519350903238)\n",
            "KstestResult(statistic=0.31364536051150504, pvalue=1.4367357448890255e-05)\n"
          ],
          "name": "stdout"
        }
      ]
    },
    {
      "cell_type": "code",
      "metadata": {
        "id": "PbObv-Wv3hol",
        "outputId": "06dc88c0-8bde-43ea-d08a-fe2aa8b2a50f",
        "colab": {
          "base_uri": "https://localhost:8080/"
        }
      },
      "source": [
        "scipy.stats.shapiro(t3['BAR'])"
      ],
      "execution_count": null,
      "outputs": [
        {
          "output_type": "execute_result",
          "data": {
            "text/plain": [
              "(0.9899967312812805, 0.9144988656044006)"
            ]
          },
          "metadata": {
            "tags": []
          },
          "execution_count": 22
        }
      ]
    },
    {
      "cell_type": "code",
      "metadata": {
        "id": "CqgBATjm3hon",
        "outputId": "a592bff6-e787-4ef4-f2fa-6c4fa5123244",
        "colab": {
          "base_uri": "https://localhost:8080/"
        }
      },
      "source": [
        "scipy.stats.shapiro(t3['RUB'])"
      ],
      "execution_count": null,
      "outputs": [
        {
          "output_type": "execute_result",
          "data": {
            "text/plain": [
              "(0.9603713750839233, 0.055638331919908524)"
            ]
          },
          "metadata": {
            "tags": []
          },
          "execution_count": 23
        }
      ]
    },
    {
      "cell_type": "code",
      "metadata": {
        "id": "GNxbV3q23hoq",
        "outputId": "61fa2103-b2de-4641-b5cb-ed78508b26a2",
        "colab": {
          "base_uri": "https://localhost:8080/"
        }
      },
      "source": [
        "scipy.stats.shapiro(t3['NGN'])"
      ],
      "execution_count": null,
      "outputs": [
        {
          "output_type": "execute_result",
          "data": {
            "text/plain": [
              "(0.6009345054626465, 2.673896000449094e-11)"
            ]
          },
          "metadata": {
            "tags": []
          },
          "execution_count": 24
        }
      ]
    },
    {
      "cell_type": "markdown",
      "metadata": {
        "id": "l8AFr0yb3hos"
      },
      "source": [
        "Нормальное распределение у рубля и бареля. у нигерийской найры- нет"
      ]
    },
    {
      "cell_type": "markdown",
      "metadata": {
        "id": "kcUaOkdB3hot"
      },
      "source": [
        "# Задание 6"
      ]
    },
    {
      "cell_type": "code",
      "metadata": {
        "id": "lhA1BOb03hot",
        "outputId": "9c1f5f71-6125-4ed3-b19b-e7a2d4e6934b",
        "colab": {
          "base_uri": "https://localhost:8080/"
        }
      },
      "source": [
        "print(t3.quantile([ .05,.95]))"
      ],
      "execution_count": null,
      "outputs": [
        {
          "output_type": "stream",
          "text": [
            "           BAR       RUB       NGN\n",
            "0.05 -1.562143 -1.934818 -0.699399\n",
            "0.95  1.668205  1.456282  2.916385\n"
          ],
          "name": "stdout"
        }
      ]
    },
    {
      "cell_type": "code",
      "metadata": {
        "id": "6NQ65KwK3ho8",
        "outputId": "b55191f0-7869-47d6-b048-c4299b41f6b7",
        "colab": {
          "base_uri": "https://localhost:8080/",
          "height": 282
        }
      },
      "source": [
        "desc=t3.describe()\n",
        "desc"
      ],
      "execution_count": null,
      "outputs": [
        {
          "output_type": "execute_result",
          "data": {
            "text/html": [
              "<div>\n",
              "<style scoped>\n",
              "    .dataframe tbody tr th:only-of-type {\n",
              "        vertical-align: middle;\n",
              "    }\n",
              "\n",
              "    .dataframe tbody tr th {\n",
              "        vertical-align: top;\n",
              "    }\n",
              "\n",
              "    .dataframe thead th {\n",
              "        text-align: right;\n",
              "    }\n",
              "</style>\n",
              "<table border=\"1\" class=\"dataframe\">\n",
              "  <thead>\n",
              "    <tr style=\"text-align: right;\">\n",
              "      <th></th>\n",
              "      <th>BAR</th>\n",
              "      <th>RUB</th>\n",
              "      <th>NGN</th>\n",
              "    </tr>\n",
              "  </thead>\n",
              "  <tbody>\n",
              "    <tr>\n",
              "      <th>count</th>\n",
              "      <td>5.800000e+01</td>\n",
              "      <td>5.800000e+01</td>\n",
              "      <td>5.800000e+01</td>\n",
              "    </tr>\n",
              "    <tr>\n",
              "      <th>mean</th>\n",
              "      <td>-7.656711e-17</td>\n",
              "      <td>-3.407236e-16</td>\n",
              "      <td>-3.828355e-17</td>\n",
              "    </tr>\n",
              "    <tr>\n",
              "      <th>std</th>\n",
              "      <td>1.008734e+00</td>\n",
              "      <td>1.008734e+00</td>\n",
              "      <td>1.008734e+00</td>\n",
              "    </tr>\n",
              "    <tr>\n",
              "      <th>min</th>\n",
              "      <td>-2.374706e+00</td>\n",
              "      <td>-2.221555e+00</td>\n",
              "      <td>-8.013136e-01</td>\n",
              "    </tr>\n",
              "    <tr>\n",
              "      <th>25%</th>\n",
              "      <td>-6.153392e-01</td>\n",
              "      <td>-4.475187e-01</td>\n",
              "      <td>-4.506053e-01</td>\n",
              "    </tr>\n",
              "    <tr>\n",
              "      <th>50%</th>\n",
              "      <td>-6.729023e-03</td>\n",
              "      <td>-7.797602e-02</td>\n",
              "      <td>-4.249311e-01</td>\n",
              "    </tr>\n",
              "    <tr>\n",
              "      <th>75%</th>\n",
              "      <td>7.344229e-01</td>\n",
              "      <td>8.628614e-01</td>\n",
              "      <td>1.572689e-01</td>\n",
              "    </tr>\n",
              "    <tr>\n",
              "      <th>max</th>\n",
              "      <td>2.066023e+00</td>\n",
              "      <td>1.665595e+00</td>\n",
              "      <td>2.958824e+00</td>\n",
              "    </tr>\n",
              "  </tbody>\n",
              "</table>\n",
              "</div>"
            ],
            "text/plain": [
              "                BAR           RUB           NGN\n",
              "count  5.800000e+01  5.800000e+01  5.800000e+01\n",
              "mean  -7.656711e-17 -3.407236e-16 -3.828355e-17\n",
              "std    1.008734e+00  1.008734e+00  1.008734e+00\n",
              "min   -2.374706e+00 -2.221555e+00 -8.013136e-01\n",
              "25%   -6.153392e-01 -4.475187e-01 -4.506053e-01\n",
              "50%   -6.729023e-03 -7.797602e-02 -4.249311e-01\n",
              "75%    7.344229e-01  8.628614e-01  1.572689e-01\n",
              "max    2.066023e+00  1.665595e+00  2.958824e+00"
            ]
          },
          "metadata": {
            "tags": []
          },
          "execution_count": 30
        }
      ]
    },
    {
      "cell_type": "code",
      "metadata": {
        "id": "5xTJa0t33hpC"
      },
      "source": [
        "t61=t3[(desc.loc['mean','BAR']+3*desc.loc['std','BAR']>t3['BAR']) & (desc.loc['mean','BAR']-3*desc.loc['std','BAR']<t3['BAR'])]['BAR']"
      ],
      "execution_count": null,
      "outputs": []
    },
    {
      "cell_type": "code",
      "metadata": {
        "id": "Bcs5Fjn-3hpJ"
      },
      "source": [
        "#t61= t6[ (q.loc[0.95,\"BAR\"] > t6[\"BAR\"]) & (q.loc[0.05,\"BAR\"] <t6[\"BAR\"])]['BAR']"
      ],
      "execution_count": null,
      "outputs": []
    },
    {
      "cell_type": "code",
      "metadata": {
        "id": "-h6im4VS3hpM",
        "outputId": "ac9050ee-bd7a-451e-cffe-f24910b3bc9e",
        "colab": {
          "base_uri": "https://localhost:8080/"
        }
      },
      "source": [
        "scipy.stats.shapiro(t61)"
      ],
      "execution_count": null,
      "outputs": [
        {
          "output_type": "execute_result",
          "data": {
            "text/plain": [
              "(0.9899967312812805, 0.9144988656044006)"
            ]
          },
          "metadata": {
            "tags": []
          },
          "execution_count": 34
        }
      ]
    },
    {
      "cell_type": "code",
      "metadata": {
        "id": "mX93BWZ33hpP"
      },
      "source": [
        "#t62= t6[ (q.loc[0.95,\"NGN\"] > t6[\"NGN\"]) & (q.loc[0.05,\"NGN\"] <t6[\"NGN\"])]['NGN']"
      ],
      "execution_count": null,
      "outputs": []
    },
    {
      "cell_type": "code",
      "metadata": {
        "id": "s_sfP4dM3hpR"
      },
      "source": [
        "t62=t3[(desc.loc['mean','RUB']+3*desc.loc['std','RUB']>t3['RUB']) & (desc.loc['mean','RUB']-3*desc.loc['std','RUB']<t3['RUB'])]['RUB']"
      ],
      "execution_count": null,
      "outputs": []
    },
    {
      "cell_type": "code",
      "metadata": {
        "id": "ICR1rdwV3hpU",
        "outputId": "8fe461aa-a8ef-4dc8-994d-3ae01f4084cc",
        "colab": {
          "base_uri": "https://localhost:8080/"
        }
      },
      "source": [
        "scipy.stats.shapiro(t62)"
      ],
      "execution_count": null,
      "outputs": [
        {
          "output_type": "execute_result",
          "data": {
            "text/plain": [
              "(0.9603713750839233, 0.055638331919908524)"
            ]
          },
          "metadata": {
            "tags": []
          },
          "execution_count": 36
        }
      ]
    },
    {
      "cell_type": "code",
      "metadata": {
        "id": "OOvbELW13hpa"
      },
      "source": [
        "#t63= t6[ (q.loc[0.95,\"RUB\"] > t6[\"RUB\"]) & (q.loc[0.05,\"RUB\"] <t6[\"RUB\"])]['RUB']"
      ],
      "execution_count": null,
      "outputs": []
    },
    {
      "cell_type": "code",
      "metadata": {
        "id": "DZsJMvqa3hpe"
      },
      "source": [
        "t63=t3[(desc.loc['mean','NGN']+3*desc.loc['std','NGN']>t3['NGN']) & (desc.loc['mean','NGN']-3*desc.loc['std','NGN']<t3['NGN'])]['NGN']"
      ],
      "execution_count": null,
      "outputs": []
    },
    {
      "cell_type": "code",
      "metadata": {
        "id": "94mIgNHv3hpj",
        "outputId": "857bc1f0-7c3a-46c5-82af-595f66855095",
        "colab": {
          "base_uri": "https://localhost:8080/"
        }
      },
      "source": [
        "scipy.stats.shapiro(t63)"
      ],
      "execution_count": null,
      "outputs": [
        {
          "output_type": "execute_result",
          "data": {
            "text/plain": [
              "(0.6009345054626465, 2.673896000449094e-11)"
            ]
          },
          "metadata": {
            "tags": []
          },
          "execution_count": 38
        }
      ]
    },
    {
      "cell_type": "markdown",
      "metadata": {
        "id": "lApp4C8A3hpn"
      },
      "source": [
        "Результат не изменился. Нормальное распределение у рубля и бареля. У нигерийской найры- нет"
      ]
    },
    {
      "cell_type": "markdown",
      "metadata": {
        "id": "fDsZVnGA3hpn"
      },
      "source": [
        "# Задание 7"
      ]
    },
    {
      "cell_type": "code",
      "metadata": {
        "id": "vjzd6K4C3hpo",
        "outputId": "f81785d8-91f6-43fb-bdd3-64e8aab05504",
        "colab": {
          "base_uri": "https://localhost:8080/",
          "height": 283
        }
      },
      "source": [
        "from scipy.stats import norm\n",
        "t3['RUB'].plot.kde()\n",
        "pl=np.sort(t3['RUB'])\n",
        "plt.plot(pl,norm.pdf(pl,pl.mean(),1))"
      ],
      "execution_count": null,
      "outputs": [
        {
          "output_type": "execute_result",
          "data": {
            "text/plain": [
              "[<matplotlib.lines.Line2D at 0x7facec49cbe0>]"
            ]
          },
          "metadata": {
            "tags": []
          },
          "execution_count": 41
        },
        {
          "output_type": "display_data",
          "data": {
            "image/png": "[encoded data removed]",
            "text/plain": [
              "<Figure size 432x288 with 1 Axes>"
            ]
          },
          "metadata": {
            "tags": [],
            "needs_background": "light"
          }
        }
      ]
    },
    {
      "cell_type": "code",
      "metadata": {
        "id": "Fpp8C1aA3hpr",
        "outputId": "a991bafd-a3d8-4fe9-8c11-ffcc20a17f34",
        "colab": {
          "base_uri": "https://localhost:8080/",
          "height": 265
        }
      },
      "source": [
        "pl=np.sort(t3['RUB'])\n",
        "y=np.arange(1,len(pl)+1)/len(pl)\n",
        "plt.plot(pl,y)\n",
        "plt.plot(pl,scipy.stats.norm.cdf(pl,pl.mean(),1))\n",
        "plt.show()"
      ],
      "execution_count": null,
      "outputs": [
        {
          "output_type": "display_data",
          "data": {
            "image/png": "[encoded data removed]",
            "text/plain": [
              "<Figure size 432x288 with 1 Axes>"
            ]
          },
          "metadata": {
            "tags": [],
            "needs_background": "light"
          }
        }
      ]
    },
    {
      "cell_type": "code",
      "metadata": {
        "id": "OXMb9KLf3hpu",
        "outputId": "e6646b2f-e50f-49bc-ae5b-7eb16e260419",
        "colab": {
          "base_uri": "https://localhost:8080/",
          "height": 283
        }
      },
      "source": [
        "t3['BAR'].plot.kde()\n",
        "pl=np.sort(t3['BAR'])\n",
        "plt.plot(pl,norm.pdf(pl,pl.mean(),1))"
      ],
      "execution_count": null,
      "outputs": [
        {
          "output_type": "execute_result",
          "data": {
            "text/plain": [
              "[<matplotlib.lines.Line2D at 0x7facec4852b0>]"
            ]
          },
          "metadata": {
            "tags": []
          },
          "execution_count": 43
        },
        {
          "output_type": "display_data",
          "data": {
            "image/png": "[encoded data removed]",
            "text/plain": [
              "<Figure size 432x288 with 1 Axes>"
            ]
          },
          "metadata": {
            "tags": [],
            "needs_background": "light"
          }
        }
      ]
    },
    {
      "cell_type": "code",
      "metadata": {
        "id": "nmxhvXJz3hpx",
        "outputId": "cd81873c-6674-4cc1-8e3d-a7370b2ef7de",
        "colab": {
          "base_uri": "https://localhost:8080/",
          "height": 265
        }
      },
      "source": [
        "pl=np.sort(t3['BAR'])\n",
        "y=np.arange(1,len(pl)+1)/len(pl)\n",
        "plt.plot(pl,y)\n",
        "plt.plot(pl,scipy.stats.norm.cdf(pl,pl.mean(),1))\n",
        "plt.show()"
      ],
      "execution_count": null,
      "outputs": [
        {
          "output_type": "display_data",
          "data": {
            "image/png": "[encoded data removed]",
            "text/plain": [
              "<Figure size 432x288 with 1 Axes>"
            ]
          },
          "metadata": {
            "tags": [],
            "needs_background": "light"
          }
        }
      ]
    },
    {
      "cell_type": "code",
      "metadata": {
        "id": "wCaDDDRG3hp0",
        "outputId": "8b5012fb-5e05-4b85-ea88-c73c1b742e5d",
        "colab": {
          "base_uri": "https://localhost:8080/",
          "height": 283
        }
      },
      "source": [
        "t3['NGN'].plot.kde()\n",
        "pl=np.sort(t3['NGN'])\n",
        "plt.plot(pl,norm.pdf(pl,pl.mean(),1))"
      ],
      "execution_count": null,
      "outputs": [
        {
          "output_type": "execute_result",
          "data": {
            "text/plain": [
              "[<matplotlib.lines.Line2D at 0x7faceaecc5f8>]"
            ]
          },
          "metadata": {
            "tags": []
          },
          "execution_count": 45
        },
        {
          "output_type": "display_data",
          "data": {
            "image/png": "[encoded data removed]",
            "text/plain": [
              "<Figure size 432x288 with 1 Axes>"
            ]
          },
          "metadata": {
            "tags": [],
            "needs_background": "light"
          }
        }
      ]
    },
    {
      "cell_type": "code",
      "metadata": {
        "id": "sLtABhU63hp2",
        "outputId": "91429f47-aa25-40c8-f184-b99c5142f8aa",
        "colab": {
          "base_uri": "https://localhost:8080/",
          "height": 265
        }
      },
      "source": [
        "pl=np.sort(t3['NGN'])\n",
        "y=np.arange(1,len(pl)+1)/len(pl)\n",
        "plt.plot(pl,y)\n",
        "plt.plot(pl,scipy.stats.norm.cdf(pl,pl.mean(),1))\n",
        "plt.show()"
      ],
      "execution_count": null,
      "outputs": [
        {
          "output_type": "display_data",
          "data": {
            "image/png": "[encoded data removed]",
            "text/plain": [
              "<Figure size 432x288 with 1 Axes>"
            ]
          },
          "metadata": {
            "tags": [],
            "needs_background": "light"
          }
        }
      ]
    },
    {
      "cell_type": "markdown",
      "metadata": {
        "id": "JUuy8YwD3hp8"
      },
      "source": [
        "# Задание 8"
      ]
    },
    {
      "cell_type": "markdown",
      "metadata": {
        "id": "yxvmVIKc3hp9"
      },
      "source": [
        "Интуиция для ранговой корреляции Спирмена состоит в том, что он вычисляет корреляцию Пирсона (например, параметрическую меру корреляции), используя ранговые значения вместо реальных значений. Где корреляция Пирсона - это расчет ковариации (или ожидаемой разницы наблюдений от среднего) между двумя переменными, нормализованными по дисперсии или разбросу обеих переменных."
      ]
    },
    {
      "cell_type": "markdown",
      "metadata": {
        "id": "jx_FCIIV3hp9"
      },
      "source": [
        "используем ШУ, т.к. у нас до 2к измерений"
      ]
    },
    {
      "cell_type": "code",
      "metadata": {
        "id": "nmr92nE03hp-",
        "outputId": "ef3c0069-bcc5-4d6e-cbd5-3046245df464",
        "colab": {
          "base_uri": "https://localhost:8080/"
        }
      },
      "source": [
        "from scipy import stats\n",
        "print(stats.spearmanr(t3['NGN'],t3['RUB']))\n",
        "print(stats.spearmanr(t3['BAR'],t3['RUB']))\n",
        "print(stats.spearmanr(t3['NGN'],t3['BAR']))\n",
        "# H0 - не корр\n"
      ],
      "execution_count": null,
      "outputs": [
        {
          "output_type": "stream",
          "text": [
            "SpearmanrResult(correlation=0.3395059829585653, pvalue=0.009127118195964385)\n",
            "SpearmanrResult(correlation=0.42776060299086666, pvalue=0.0008099961642175627)\n",
            "SpearmanrResult(correlation=-0.18177902934721543, pvalue=0.17204567275996752)\n"
          ],
          "name": "stdout"
        }
      ]
    },
    {
      "cell_type": "markdown",
      "metadata": {
        "id": "klslVSc53hqD"
      },
      "source": [
        "Интуиция для теста состоит в том, что он вычисляет нормированную оценку для числа совпадающих или согласованных ранжирований между двумя выборками\n",
        "обе ранжируем, одну упорядочиваем. Для каждого ранга   из числа следующих за ним рангов подсчитывается количество больших него по величине рангов и число рангов, меньших по значению"
      ]
    },
    {
      "cell_type": "code",
      "metadata": {
        "id": "KMkxHqiS3hqD",
        "outputId": "f26e1734-70fe-4729-b535-20fd520a1152",
        "colab": {
          "base_uri": "https://localhost:8080/"
        }
      },
      "source": [
        "print(stats.kendalltau(t3['NGN'],t3['RUB']))\n",
        "print(stats.kendalltau(t3['BAR'],t3['RUB']))\n",
        "print(stats.kendalltau(t3['NGN'],t3['BAR']))\n",
        "# H0 - не корр\n",
        "\n"
      ],
      "execution_count": null,
      "outputs": [
        {
          "output_type": "stream",
          "text": [
            "KendalltauResult(correlation=0.2450090744101633, pvalue=0.006592951160275788)\n",
            "KendalltauResult(correlation=0.29133879644104854, pvalue=0.001251479118633479)\n",
            "KendalltauResult(correlation=-0.15445196069120037, pvalue=0.0871335462850623)\n"
          ],
          "name": "stdout"
        }
      ]
    },
    {
      "cell_type": "markdown",
      "metadata": {
        "id": "oRKStkBF3hqF"
      },
      "source": [
        "Коэффициенты корреляции Спирмена и Кендалла используются как меры взаимозависимости между рядами рангов, а не как меры связи между самими переменными и используются чаще для анализа качественных перменных."
      ]
    },
    {
      "cell_type": "markdown",
      "metadata": {
        "id": "GjBYqyI53hqI"
      },
      "source": [
        "корреляция Пирсона требует, чтобы каждый набор данных был нормально распределен. Как и другие коэффициенты корреляции, этот колеблется от -1 до +1, причем 0 не подразумевает никакой корреляции. Корреляции -1 или +1 подразумевают точную линейную зависимость. Позитивная корреляция подразумевает, что Х увеличивается и у. Отрицательные корреляции подразумевает, что как X увеличивается и y уменьшается. P-значение приблизительно указывает на вероятность того, что некоррелированная система создаст наборы данных, которые имеют корреляцию Пирсона, по крайней мере, такую же экстремальную, как и вычисленная из этих наборов данных.\n",
        "\n",
        "Коэффициент корреляции r - Пирсона оценивает только линейную связь\n",
        "переменных. Нелинейную связь данный коэффициент выявить не может. Коэффициент корреляции Пирсона очень чувствителен к аутлаерам\n",
        "(выбросам).\n",
        "Корреляция не подразумевает наличия причинно-следственной связи\n",
        "между переменными.\n",
        "\n",
        "хоть все имеют минусы, но лучше использовать Пирсона."
      ]
    },
    {
      "cell_type": "code",
      "metadata": {
        "id": "Mwq_Rq8V3hqI",
        "outputId": "68182e5e-636b-4e28-9c82-68b3fd04d8d7",
        "colab": {
          "base_uri": "https://localhost:8080/"
        }
      },
      "source": [
        "print(stats.pearsonr(t3['NGN'],t3['RUB']))\n",
        "print(stats.pearsonr(t3['BAR'],t3['RUB']))\n",
        "print(stats.pearsonr(t3['NGN'],t3['BAR']))"
      ],
      "execution_count": null,
      "outputs": [
        {
          "output_type": "stream",
          "text": [
            "(-0.19510440153756542, 0.14219360767100075)\n",
            "(0.47183039178988845, 0.00018478240864544862)\n",
            "(-0.37110097349571325, 0.0041323768847454775)\n"
          ],
          "name": "stdout"
        }
      ]
    },
    {
      "cell_type": "code",
      "metadata": {
        "id": "a8ORtl5r3hqL",
        "outputId": "e2c6d902-a8db-4836-b4af-53026b10eadc",
        "colab": {
          "base_uri": "https://localhost:8080/",
          "height": 283
        }
      },
      "source": [
        "plt.scatter(t3.BAR.values, t3.RUB.values)#характер зависимости  не линейный\n",
        "#только у них двух нормальное распредление\n",
        "#значит используем Спирмена "
      ],
      "execution_count": null,
      "outputs": [
        {
          "output_type": "execute_result",
          "data": {
            "text/plain": [
              "<matplotlib.collections.PathCollection at 0x7facead4ef98>"
            ]
          },
          "metadata": {
            "tags": []
          },
          "execution_count": 50
        },
        {
          "output_type": "display_data",
          "data": {
            "image/png": "[encoded data removed]",
            "text/plain": [
              "<Figure size 432x288 with 1 Axes>"
            ]
          },
          "metadata": {
            "tags": [],
            "needs_background": "light"
          }
        }
      ]
    },
    {
      "cell_type": "markdown",
      "metadata": {
        "id": "e5lKfhVc3hqQ"
      },
      "source": [
        "# Задание 9"
      ]
    },
    {
      "cell_type": "markdown",
      "metadata": {
        "id": "tH_dNFcD-g-c"
      },
      "source": [
        "1 вариант"
      ]
    },
    {
      "cell_type": "code",
      "metadata": {
        "id": "Mc5FdRY73hqR"
      },
      "source": [
        "def plot_regression_line(x, y, b):\n",
        "\n",
        "    # построение фактических точек в виде точечной диаграммы\n",
        "\n",
        "    plt.scatter(x, y, color = \"r\",\n",
        "\n",
        "               marker = \"o\", s = 30)\n",
        "\n",
        "  \n",
        "\n",
        "    # предсказанный \n",
        "\n",
        "    y_pred = b[0] + b[1]*x\n",
        "\n",
        "  \n",
        "\n",
        "    #  линия регрессии\n",
        "\n",
        "    plt.plot(x, y_pred, color = \"g\")\n",
        "  \n",
        "    plt.show()"
      ],
      "execution_count": null,
      "outputs": []
    },
    {
      "cell_type": "code",
      "metadata": {
        "id": "Ls0us6py3hqW"
      },
      "source": [
        "def estimate_coef(x, y):\n",
        "\n",
        "    # количество наблюдений \n",
        "\n",
        "    n = np.size(x)\n",
        "\n",
        "  \n",
        "\n",
        "    # среднее значение вектора x и y\n",
        "\n",
        "    m_x, m_y = np.mean(x), np.mean(y)\n",
        "\n",
        "  \n",
        "\n",
        "    # вычисление  отклонения \n",
        "\n",
        "    SS_xy = np.sum(y*x) - n*m_y*m_x\n",
        "\n",
        "    SS_xx = np.sum(x*x) - n*m_x*m_x\n",
        "\n",
        "  \n",
        "\n",
        "    # вычисление коэффициентов регрессии\n",
        "\n",
        "    b_1 = SS_xy / SS_xx\n",
        "\n",
        "    b_0 = m_y - b_1*m_x\n",
        "\n",
        "  \n",
        "\n",
        "    return(b_0, b_1)\n",
        "\n",
        "\n"
      ],
      "execution_count": null,
      "outputs": []
    },
    {
      "cell_type": "code",
      "metadata": {
        "id": "Ee4TjEoA3hqZ",
        "outputId": "f74d9894-10f7-439e-a626-c776f270daf4",
        "colab": {
          "base_uri": "https://localhost:8080/",
          "height": 265
        }
      },
      "source": [
        "# оценка коэффициентов\n",
        "\n",
        "b = estimate_coef(t3['BAR'],t3['RUB'])\n",
        "\n",
        "\n",
        "# построение линии регрессии\n",
        "plot_regression_line(t3['BAR'],t3['RUB'], b)"
      ],
      "execution_count": null,
      "outputs": [
        {
          "output_type": "display_data",
          "data": {
            "image/png": "[encoded data removed]",
            "text/plain": [
              "<Figure size 432x288 with 1 Axes>"
            ]
          },
          "metadata": {
            "tags": [],
            "needs_background": "light"
          }
        }
      ]
    },
    {
      "cell_type": "code",
      "metadata": {
        "id": "jwXMsmMh3hqd",
        "outputId": "5c3ad35d-3460-44e2-dfa6-a19fe0e04788",
        "colab": {
          "base_uri": "https://localhost:8080/",
          "height": 265
        }
      },
      "source": [
        "# оценка коэффициентов\n",
        "\n",
        "b = estimate_coef(t3['BAR'],t3['NGN'])\n",
        "\n",
        "\n",
        "# построение линии регрессии\n",
        "plot_regression_line(t3['BAR'],t3['NGN'], b)"
      ],
      "execution_count": null,
      "outputs": [
        {
          "output_type": "display_data",
          "data": {
            "image/png": "[encoded data removed]",
            "text/plain": [
              "<Figure size 432x288 with 1 Axes>"
            ]
          },
          "metadata": {
            "tags": [],
            "needs_background": "light"
          }
        }
      ]
    },
    {
      "cell_type": "code",
      "metadata": {
        "id": "OVrz-5SM3hqf",
        "outputId": "2e0773f6-222b-4bbf-bc6b-062b8bc87c7f",
        "colab": {
          "base_uri": "https://localhost:8080/",
          "height": 265
        }
      },
      "source": [
        "# оценка коэффициентов\n",
        "\n",
        "b = estimate_coef(t3['NGN'],t3['RUB'])\n",
        "\n",
        "\n",
        "# построение линии регрессии\n",
        "plot_regression_line(t3['NGN'],t3['RUB'], b)"
      ],
      "execution_count": null,
      "outputs": [
        {
          "output_type": "display_data",
          "data": {
            "image/png": "[encoded data removed]",
            "text/plain": [
              "<Figure size 432x288 with 1 Axes>"
            ]
          },
          "metadata": {
            "tags": [],
            "needs_background": "light"
          }
        }
      ]
    },
    {
      "cell_type": "markdown",
      "metadata": {
        "id": "upePzSgM-eYy"
      },
      "source": [
        "2 вариант"
      ]
    },
    {
      "cell_type": "code",
      "metadata": {
        "id": "JtMXukWW-qAU",
        "outputId": "566626e3-2fda-4550-e252-3966c59bee18",
        "colab": {
          "base_uri": "https://localhost:8080/",
          "height": 265
        }
      },
      "source": [
        "model1=linear_model.LinearRegression()\n",
        "model1.fit(t3['BAR'].values.reshape(-1,1),t3['RUB'])\n",
        "pred=model1.predict(t3['BAR'].values.reshape(-1,1))\n",
        "plt.plot(t3['BAR'],pred,c='green')\n",
        "plt.scatter(t3['BAR'],t3['RUB'],c='red')\n",
        "plt.show()"
      ],
      "execution_count": null,
      "outputs": [
        {
          "output_type": "display_data",
          "data": {
            "image/png": "[encoded data removed]",
            "text/plain": [
              "<Figure size 432x288 with 1 Axes>"
            ]
          },
          "metadata": {
            "tags": [],
            "needs_background": "light"
          }
        }
      ]
    },
    {
      "cell_type": "code",
      "metadata": {
        "id": "vhvUNNSk_L_P",
        "outputId": "29cb5adc-5423-4475-a4f8-0b2e226f7600",
        "colab": {
          "base_uri": "https://localhost:8080/",
          "height": 265
        }
      },
      "source": [
        "model2=linear_model.LinearRegression()\n",
        "model2.fit(t3['BAR'].values.reshape(-1,1),t3['NGN'])\n",
        "pred=model2.predict(t3['BAR'].values.reshape(-1,1))\n",
        "plt.plot(t3['BAR'],pred,c='green')\n",
        "plt.scatter(t3['BAR'],t3['NGN'],c='red')\n",
        "plt.show()"
      ],
      "execution_count": null,
      "outputs": [
        {
          "output_type": "display_data",
          "data": {
            "image/png": "[encoded data removed]",
            "text/plain": [
              "<Figure size 432x288 with 1 Axes>"
            ]
          },
          "metadata": {
            "tags": [],
            "needs_background": "light"
          }
        }
      ]
    },
    {
      "cell_type": "code",
      "metadata": {
        "id": "1RrgQsFl__ow",
        "outputId": "62239f71-a3e3-4a11-e75b-36bc38d38e8e",
        "colab": {
          "base_uri": "https://localhost:8080/",
          "height": 265
        }
      },
      "source": [
        "model3=linear_model.LinearRegression()\n",
        "model3.fit(t3['NGN'].values.reshape(-1,1),t3['RUB'])\n",
        "pred=model3.predict(t3['NGN'].values.reshape(-1,1))\n",
        "plt.plot(t3['NGN'],pred,c='green')\n",
        "plt.scatter(t3['NGN'],t3['RUB'],c='red')\n",
        "plt.show()"
      ],
      "execution_count": null,
      "outputs": [
        {
          "output_type": "display_data",
          "data": {
            "image/png": "[encoded data removed]",
            "text/plain": [
              "<Figure size 432x288 with 1 Axes>"
            ]
          },
          "metadata": {
            "tags": [],
            "needs_background": "light"
          }
        }
      ]
    },
    {
      "cell_type": "code",
      "metadata": {
        "id": "S9onUhSI3hqv"
      },
      "source": [
        ">>> # example 7\n",
        ">>> x = np.random.normal(loc=8.25, scale=2.75, size=37)\n",
        ">>> y = np.random.normal(loc=8.75, scale=3.25, size=57)\n",
        "\n",
        ">>> pp_x = sm.ProbPlot(x, fit=True)\n",
        ">>> pp_y = sm.ProbPlot(y, fit=True)\n",
        ">>> pp_y.ppplot(line=\"45\", other=pp_x)\n",
        ">>> py.title(\"Ex. 7A- ppplot - compare two sample sets, other=pp_x\")\n",
        ">>> pp_x.ppplot(line=\"45\", other=pp_y)\n",
        ">>> py.title(\"Ex. 7B- ppplot - compare two sample sets, other=pp_y\")\n",
        ">>> py.show()"
      ],
      "execution_count": null,
      "outputs": []
    }
  ]
}